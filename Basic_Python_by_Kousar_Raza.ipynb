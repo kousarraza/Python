{
  "nbformat": 4,
  "nbformat_minor": 0,
  "metadata": {
    "colab": {
      "provenance": [],
      "toc_visible": true,
      "collapsed_sections": [
        "2-vyAn3N-Uuz"
      ],
      "authorship_tag": "ABX9TyOlnKwu6/D7BgxKVZj3sCE+",
      "include_colab_link": true
    },
    "kernelspec": {
      "name": "python3",
      "display_name": "Python 3"
    },
    "language_info": {
      "name": "python"
    }
  },
  "cells": [
    {
      "cell_type": "markdown",
      "metadata": {
        "id": "view-in-github",
        "colab_type": "text"
      },
      "source": [
        "<a href=\"https://colab.research.google.com/github/kousarraza/Python/blob/main/Basic_Python_by_Kousar_Raza.ipynb\" target=\"_parent\"><img src=\"https://colab.research.google.com/assets/colab-badge.svg\" alt=\"Open In Colab\"/></a>"
      ]
    },
    {
      "cell_type": "markdown",
      "source": [
        "#Day-1\n"
      ],
      "metadata": {
        "id": "X6HJjQ3eqaym"
      }
    },
    {
      "cell_type": "markdown",
      "source": [
        "## What is Python?\n",
        "Python is a popular programming language. It was created by Guido van Rossum, and released in 1991.\n",
        "\n",
        "It is used for:\n",
        "\n",
        "* web development (server-side),\n",
        "* software development,\n",
        "* mathematics, system scripting."
      ],
      "metadata": {
        "id": "ivoWzPIyqi09"
      }
    },
    {
      "cell_type": "markdown",
      "source": [
        "## What can Python do?\n",
        "* Python can be used on a server to create web applications.\n",
        "* Python can be used alongside software to create workflows.\n",
        "* Python can connect to database systems. It can also read and modify files.\n",
        "* Python can be used to handle big data and perform complex mathematics.\n",
        "* Python can be used for rapid prototyping, or for production-ready software development."
      ],
      "metadata": {
        "id": "AhJXftQaqw6W"
      }
    },
    {
      "cell_type": "markdown",
      "source": [
        "## Why Python?\n",
        "* Python works on different platforms (Windows, Mac, Linux, Raspberry Pi, etc).\n",
        "* Python has a simple syntax similar to the English language.\n",
        "* Python has syntax that allows developers to write programs with fewer lines than some other programming languages.\n",
        "* Python runs on an interpreter system, meaning that code can be executed as soon as it is written. This means that prototyping can be very quick.\n",
        "* Python can be treated in a procedural way, an object-oriented way or a functional way."
      ],
      "metadata": {
        "id": "x7f9wBzeq56Y"
      }
    },
    {
      "cell_type": "markdown",
      "source": [
        "##Python Indentation\n",
        "* Indentation refers to the spaces at the beginning of a code line.\n",
        "\n",
        "* Where in other programming languages the indentation in code is for readability only, the indentation in Python is very important.\n",
        "\n",
        "Python uses indentation to indicate a block of code."
      ],
      "metadata": {
        "id": "3C3SxhI3rckv"
      }
    },
    {
      "cell_type": "markdown",
      "source": [
        "##First Program"
      ],
      "metadata": {
        "id": "JYtuLuS44Lbw"
      }
    },
    {
      "cell_type": "code",
      "source": [
        "print(\"Hello World\")"
      ],
      "metadata": {
        "colab": {
          "base_uri": "https://localhost:8080/"
        },
        "id": "miPLTFmd4ZPd",
        "outputId": "f2de0c87-7ff3-4589-d207-a1218a58d758"
      },
      "execution_count": null,
      "outputs": [
        {
          "output_type": "stream",
          "name": "stdout",
          "text": [
            "Hello World\n"
          ]
        }
      ]
    },
    {
      "cell_type": "markdown",
      "source": [
        "#Day-2"
      ],
      "metadata": {
        "id": "VcgY2PG9v06K"
      }
    },
    {
      "cell_type": "markdown",
      "source": [
        "## Python Comments\n",
        "### Comments Uses\n",
        "\n",
        "* Comments can be used to explain Python code.\n",
        "* Comments can be used to make the code more readable.\n",
        "* Comments can be used to prevent execution when testing code.\n",
        "\n"
      ],
      "metadata": {
        "id": "2-vyAn3N-Uuz"
      }
    },
    {
      "cell_type": "markdown",
      "source": [
        "\n",
        "### Type of Comments in Python\n",
        "\n",
        "1. Single line comment\n",
        "2. Multi line comment"
      ],
      "metadata": {
        "id": "sOYB4PbSwneQ"
      }
    },
    {
      "cell_type": "code",
      "source": [
        "#This is Single Line Comment\n",
        "print(\"Single Comment\")\n",
        "\n",
        "\"\"\"\n",
        "This is Mutli Line Comment\n",
        "\"\"\"\n",
        "\n",
        "'''\n",
        "This is Also Multi Line Comment\n",
        "\n",
        "'''"
      ],
      "metadata": {
        "colab": {
          "base_uri": "https://localhost:8080/",
          "height": 53
        },
        "id": "8EPGHfl3_DUA",
        "outputId": "5c7b5da9-e1d8-4b5c-f8e6-4455de6575ba"
      },
      "execution_count": null,
      "outputs": [
        {
          "output_type": "stream",
          "name": "stdout",
          "text": [
            "Single Comment\n"
          ]
        },
        {
          "output_type": "execute_result",
          "data": {
            "text/plain": [
              "'\\nThis is Also Multi Line Comment\\n\\n'"
            ],
            "application/vnd.google.colaboratory.intrinsic+json": {
              "type": "string"
            }
          },
          "metadata": {},
          "execution_count": 6
        }
      ]
    },
    {
      "cell_type": "markdown",
      "source": [
        "## Variables\n",
        "\n",
        "\n",
        "A variable should be named according to following rules:\n",
        "\n",
        "1. A variable name can only contain alpha-numeric characters and underscores (A-z, 0-9, and _ ).\n",
        "2. A variable name must start with a letter or the underscore character.\n",
        "3. Variable names are case sensitive.\n",
        "4.Variable name shouldn't be any keyword of Python."
      ],
      "metadata": {
        "id": "Xsopy107_rm3"
      }
    },
    {
      "cell_type": "markdown",
      "source": [
        "### Naming a Multi words Varaible\n",
        "* Variable names with more than one word can be difficult to read.\n",
        "\n",
        "* There are several techniques you can use to make them more readable:\n",
        "\n",
        "3 methods to name a variable:\n",
        "\n",
        "1. Camel Case\n",
        "\n",
        "2. Pascal  Case\n",
        "\n",
        "3. Snake Case"
      ],
      "metadata": {
        "id": "_w79yNYKAlvh"
      }
    },
    {
      "cell_type": "markdown",
      "source": [
        "####Camel Case\n",
        "* When using camel case, you start by making the first word lowercase. Then, you capitalize the first letter of each word that follows.\n",
        "\n",
        "* So, a capital letter appears at the start of the second word and at each new subsequent word that follows it.\n",
        "* Each word, except the first, starts with a capital letter:"
      ],
      "metadata": {
        "id": "BV9pUpzzzkBc"
      }
    },
    {
      "cell_type": "code",
      "source": [
        "#Camel Case Variable\n",
        "classThreeStudents=45\n",
        "bigThree=\"India\",\"Austrilia\",\"England\"\n",
        "print(classThreeStudents)\n"
      ],
      "metadata": {
        "colab": {
          "base_uri": "https://localhost:8080/"
        },
        "id": "HreU7lM8AxA1",
        "outputId": "65278511-c552-4ea3-9d46-8a6364814a98"
      },
      "execution_count": null,
      "outputs": [
        {
          "output_type": "stream",
          "name": "stdout",
          "text": [
            "45\n"
          ]
        }
      ]
    },
    {
      "cell_type": "markdown",
      "source": [
        "####Pascal Case\n",
        "* Pascal case is similar to camel case.\n",
        "* Each word starts with a capital letter:\n",
        "* The only difference between the two is that pascal case requires the first letter of the first word to also be capitalized.\n",
        "\n",
        "* So, when using pascal case, every word starts with an uppercase letter (in contrast to camel case, where the first word is in lowercase).\n"
      ],
      "metadata": {
        "id": "ADVSsaHS0S59"
      }
    },
    {
      "cell_type": "code",
      "source": [
        "#Pascal Case Variable\n",
        "Myname=\"Kousar Raza\"\n",
        "Yourname=\"ABC\"\n",
        "print(Myname)"
      ],
      "metadata": {
        "id": "E1D0k4JSBuOu"
      },
      "execution_count": null,
      "outputs": []
    },
    {
      "cell_type": "markdown",
      "source": [
        "#### Snake Case\n",
        "* Snake case is used for creating variable and method names.\n",
        "\n",
        "* Each word is separated by an underscore character\n",
        "* Snake case is also a good choice for naming files, as it keeps names readable.\n",
        "\n",
        "* You will typically encounter it the most when programming in Python and not so much when programming in Java, JavaScript, or TypeScript.\n",
        "\n",
        "* You will also come across it when working with databases, as it is used for creating table and column names.\n",
        "\n",
        "* There is also an all-caps version of the snake case where all letters are in the upper case - also known as the screaming snake case."
      ],
      "metadata": {
        "id": "aJpypLAz0-VC"
      }
    },
    {
      "cell_type": "code",
      "source": [
        "#Snake Case Variable\n",
        "#It means that we delimit words with an underscore.\n",
        "class_Three_Total_Students=45\n"
      ],
      "metadata": {
        "id": "NLcOmGpjCsgC"
      },
      "execution_count": null,
      "outputs": []
    },
    {
      "cell_type": "markdown",
      "source": [
        "### Many Values to Multiple Variables\n",
        "Python allows you to assign values to multiple variables in one line:"
      ],
      "metadata": {
        "id": "sAYjpv4s1vIF"
      }
    },
    {
      "cell_type": "code",
      "source": [
        "x,y ,z= \"Green\",\"Blue\",\"Black\"\n",
        "print(x,y,z)"
      ],
      "metadata": {
        "colab": {
          "base_uri": "https://localhost:8080/"
        },
        "id": "MKG34wQr13pP",
        "outputId": "baadada9-9e0d-4f04-8e03-59ef2af87f71"
      },
      "execution_count": null,
      "outputs": [
        {
          "output_type": "stream",
          "name": "stdout",
          "text": [
            "Green Blue Black\n"
          ]
        }
      ]
    },
    {
      "cell_type": "markdown",
      "source": [
        "### One Value to Multiple Variables\n",
        "* And you can assign the same value to multiple variables in one line"
      ],
      "metadata": {
        "id": "KkxiBLv72kUO"
      }
    },
    {
      "cell_type": "code",
      "source": [
        "x = y = z = \"Orange\"\n",
        "print(x)\n",
        "print(y)\n",
        "print(z)"
      ],
      "metadata": {
        "colab": {
          "base_uri": "https://localhost:8080/"
        },
        "id": "5g1lmigD2_s8",
        "outputId": "a516e1e9-c43b-4fd6-e31a-b85f9f33b3ef"
      },
      "execution_count": null,
      "outputs": [
        {
          "output_type": "stream",
          "name": "stdout",
          "text": [
            "Orange\n",
            "Orange\n",
            "Orange\n"
          ]
        }
      ]
    },
    {
      "cell_type": "markdown",
      "source": [
        "## Output Variables\n",
        "* The Python print() function is often used to output variables."
      ],
      "metadata": {
        "id": "aVWpCOjO3ZWi"
      }
    },
    {
      "cell_type": "code",
      "source": [
        "x = \"Python is awesome\"\n",
        "print(x)"
      ],
      "metadata": {
        "colab": {
          "base_uri": "https://localhost:8080/"
        },
        "id": "aAkfxRNM32br",
        "outputId": "232d937d-dea4-433e-9fae-7472a2eaed05"
      },
      "execution_count": null,
      "outputs": [
        {
          "output_type": "stream",
          "name": "stdout",
          "text": [
            "Python is awesome\n"
          ]
        }
      ]
    },
    {
      "cell_type": "markdown",
      "source": [
        "In the print() function, you output multiple variables, separated by a comma:"
      ],
      "metadata": {
        "id": "O4PC6nIu38sh"
      }
    },
    {
      "cell_type": "code",
      "source": [
        "x = \"Python\"\n",
        "y = \"is\"\n",
        "z = \"awesome\"\n",
        "print(x, y, z)"
      ],
      "metadata": {
        "colab": {
          "base_uri": "https://localhost:8080/"
        },
        "id": "gc8x8Yi54QMD",
        "outputId": "468245b0-93cf-43cc-bf77-429312e18b79"
      },
      "execution_count": null,
      "outputs": [
        {
          "output_type": "stream",
          "name": "stdout",
          "text": [
            "Python is awesome\n"
          ]
        }
      ]
    },
    {
      "cell_type": "markdown",
      "source": [
        "You can also use the + operator to output multiple variables:"
      ],
      "metadata": {
        "id": "iHHjfH7L4dSc"
      }
    },
    {
      "cell_type": "code",
      "source": [
        "x = \"Python \"\n",
        "y = \"is \"\n",
        "z = \"awesome\"\n",
        "print(x + y + z)"
      ],
      "metadata": {
        "colab": {
          "base_uri": "https://localhost:8080/"
        },
        "id": "EKsfWzWN4enA",
        "outputId": "21db9b03-19f0-42da-e030-ce092569a56e"
      },
      "execution_count": null,
      "outputs": [
        {
          "output_type": "stream",
          "name": "stdout",
          "text": [
            "Python is awesome\n"
          ]
        }
      ]
    },
    {
      "cell_type": "markdown",
      "source": [
        "###End and Sep\n",
        "* We can use End command in the end of print function.\n",
        "* Syntax is: print(1,2,3,End=\" .\")\n",
        "\n",
        "* Sep command used to seprated the values from print funcction\n",
        "* Syntax is : print(1,2,3,4,sep=\"-\")"
      ],
      "metadata": {
        "id": "Lm2UQOHRziij"
      }
    },
    {
      "cell_type": "code",
      "source": [
        "print(1,2,3,4, end=\".\\n\")\n",
        "\n",
        "print(1,2,3,4,5,sep=\"-\")"
      ],
      "metadata": {
        "id": "v3l7qB8S0xBR",
        "outputId": "f19b5da2-b20b-4121-dd28-57bbb34c3deb",
        "colab": {
          "base_uri": "https://localhost:8080/"
        }
      },
      "execution_count": null,
      "outputs": [
        {
          "output_type": "stream",
          "name": "stdout",
          "text": [
            "1 2 3 4.\n",
            "1-2-3-4-5\n"
          ]
        }
      ]
    },
    {
      "cell_type": "markdown",
      "source": [
        "#Day-3"
      ],
      "metadata": {
        "id": "Bs0mOGjL5J0O"
      }
    },
    {
      "cell_type": "markdown",
      "source": [
        "## Data Types\n",
        "\n",
        "* In programming, data type is an important concept.\n",
        "\n",
        "* Variables can store data of different types, and different types can do different things.\n",
        "\n",
        "Python has the following data types built-in by default, in these categories:  \n",
        "\n",
        "1. Text Type:\tstr\n",
        "\n",
        "2. Numeric Types:\tint, float, complex\n",
        "3. Sequence Types:\tlist, tuple, range\n",
        "4. Mapping Type:\tdict\n",
        "5. Set Types:\tset, frozenset\n",
        "6. Boolean Type:\tbool\n",
        "7. Binary Types:\tbytes, bytearray, memoryview\n",
        "8. None Type:\tNoneType"
      ],
      "metadata": {
        "id": "C3vAKuYh5Nxp"
      }
    },
    {
      "cell_type": "markdown",
      "source": [
        "### Python Numbers\n",
        "There are three numeric types in Python:\n",
        "\n",
        "1. int\n",
        "2. float\n",
        "3. complex"
      ],
      "metadata": {
        "id": "U2_Xbvz16eTS"
      }
    },
    {
      "cell_type": "code",
      "source": [
        "x=24 #int data type\n",
        "y=2.5  #float data type\n",
        "z= 1j  # copmlex data type\n",
        "print(x,y,z)"
      ],
      "metadata": {
        "colab": {
          "base_uri": "https://localhost:8080/"
        },
        "id": "E-NCpcOB6kGN",
        "outputId": "7e488724-3585-4ead-fc0b-7b863814337d"
      },
      "execution_count": null,
      "outputs": [
        {
          "output_type": "stream",
          "name": "stdout",
          "text": [
            "24 2.5 1j\n"
          ]
        }
      ]
    },
    {
      "cell_type": "markdown",
      "source": [
        "####Int\n",
        "* Int, or integer, is a whole number, positive or negative, without decimals, of unlimited length."
      ],
      "metadata": {
        "id": "e6aw090b71dc"
      }
    },
    {
      "cell_type": "code",
      "source": [
        "x = 1\n",
        "y = 35656222554887711\n",
        "z = -3255522\n",
        "\n",
        "print(type(x))\n",
        "print(type(y))\n",
        "print(type(z))"
      ],
      "metadata": {
        "colab": {
          "base_uri": "https://localhost:8080/"
        },
        "id": "yvyOsK1e8AIo",
        "outputId": "9c981062-d14d-4e2a-f9ec-142d7f63c7d5"
      },
      "execution_count": null,
      "outputs": [
        {
          "output_type": "stream",
          "name": "stdout",
          "text": [
            "<class 'int'>\n",
            "<class 'int'>\n",
            "<class 'int'>\n"
          ]
        }
      ]
    },
    {
      "cell_type": "markdown",
      "source": [
        "####Float\n",
        "* Float, or \"floating point number\" is a number, positive or negative, containing one or more decimals."
      ],
      "metadata": {
        "id": "gI2430yE8Pz7"
      }
    },
    {
      "cell_type": "code",
      "source": [
        "x = 1.10\n",
        "y = 1.0\n",
        "z = -35.59"
      ],
      "metadata": {
        "id": "c4o6223U8bu1"
      },
      "execution_count": null,
      "outputs": []
    },
    {
      "cell_type": "markdown",
      "source": [
        "Float can also be scientific numbers with an \"e\" to indicate the power of 10."
      ],
      "metadata": {
        "id": "cGvxU4py8l--"
      }
    },
    {
      "cell_type": "code",
      "source": [
        "x = 35e3\n",
        "y = 12E4\n",
        "z = -87.7e100\n",
        "\n",
        "print(type(x))\n",
        "print(type(y))\n",
        "print(type(z))"
      ],
      "metadata": {
        "colab": {
          "base_uri": "https://localhost:8080/"
        },
        "id": "qUxTSPJ_8oMX",
        "outputId": "811d5573-7daa-4571-f24a-e3368feae57c"
      },
      "execution_count": null,
      "outputs": [
        {
          "output_type": "stream",
          "name": "stdout",
          "text": [
            "<class 'float'>\n",
            "<class 'float'>\n",
            "<class 'float'>\n"
          ]
        }
      ]
    },
    {
      "cell_type": "markdown",
      "source": [
        "####Complex\n",
        "* Complex numbers are written with a \"j\" as the imaginary part:  "
      ],
      "metadata": {
        "id": "fzXFD96t8vej"
      }
    },
    {
      "cell_type": "code",
      "source": [
        "x = 3+5j\n",
        "y = 5j\n",
        "z = -5j\n",
        "\n",
        "print(type(x))\n",
        "print(type(y))\n",
        "print(type(z))"
      ],
      "metadata": {
        "colab": {
          "base_uri": "https://localhost:8080/"
        },
        "id": "2nHTBl5Z9IqX",
        "outputId": "308e35de-99b7-4564-fe97-af813f7cfcc6"
      },
      "execution_count": null,
      "outputs": [
        {
          "output_type": "stream",
          "name": "stdout",
          "text": [
            "<class 'complex'>\n",
            "<class 'complex'>\n",
            "<class 'complex'>\n"
          ]
        }
      ]
    },
    {
      "cell_type": "markdown",
      "source": [
        "###Check Type of Data\n",
        "type() method used to check  the type of data"
      ],
      "metadata": {
        "id": "sd6pAI1t6-e3"
      }
    },
    {
      "cell_type": "code",
      "source": [
        "print(type(x))\n",
        "print(type(y))\n",
        "print(type(z))"
      ],
      "metadata": {
        "colab": {
          "base_uri": "https://localhost:8080/"
        },
        "id": "AiYjDtt27Cqr",
        "outputId": "ca37b0d9-4701-485b-af24-65d3d02b2ffb"
      },
      "execution_count": null,
      "outputs": [
        {
          "output_type": "stream",
          "name": "stdout",
          "text": [
            "<class 'int'>\n",
            "<class 'float'>\n",
            "<class 'complex'>\n"
          ]
        }
      ]
    },
    {
      "cell_type": "markdown",
      "source": [
        "###String\n",
        "* String is  a sequence  of characters uncloased in quotes.\n",
        "* Strings in python are surrounded by either single quotation marks, or double quotation marks or triple quotation marks .\n",
        "\n",
        "* 'hello' is the same as \"hello\" and \"\"\"hello\"\"\".\n",
        "\n",
        "\n",
        "* You can display a string literal with the print() function:"
      ],
      "metadata": {
        "id": "oLRsQLj1_4bn"
      }
    },
    {
      "cell_type": "code",
      "source": [
        "a='hello world '\n",
        "b=\"hello world\"\n",
        "c=\"\"\"hello world\"\"\"\n",
        "\n",
        "print(a)\n",
        "print(b)\n",
        "print(c)"
      ],
      "metadata": {
        "id": "8XIV2wzOBEfi",
        "outputId": "e03043f6-93e4-4779-cbd7-7bf64c743f90",
        "colab": {
          "base_uri": "https://localhost:8080/"
        }
      },
      "execution_count": null,
      "outputs": [
        {
          "output_type": "stream",
          "name": "stdout",
          "text": [
            "hello world \n",
            "hello world\n",
            "hello world\n"
          ]
        }
      ]
    },
    {
      "cell_type": "markdown",
      "source": [
        "####Acces the element from String(Slicing)\n",
        "\n",
        "* You can return a range of characters by using the slice syntax.\n",
        "\n",
        "* Specify the start index and the end index, separated by a colon, to return a part of the string.\n"
      ],
      "metadata": {
        "id": "fttjL6a52vRc"
      }
    },
    {
      "cell_type": "markdown",
      "source": [
        "Get the characters from position 2 to position 5 (not included):"
      ],
      "metadata": {
        "id": "NrdqrCOs3bY3"
      }
    },
    {
      "cell_type": "code",
      "source": [
        "print(a[2:5])"
      ],
      "metadata": {
        "id": "aGxPNZUl3KG_",
        "outputId": "f5da32a5-85d7-445e-ac5a-238e1991b5a4",
        "colab": {
          "base_uri": "https://localhost:8080/"
        }
      },
      "execution_count": null,
      "outputs": [
        {
          "output_type": "stream",
          "name": "stdout",
          "text": [
            "llo\n"
          ]
        }
      ]
    },
    {
      "cell_type": "markdown",
      "source": [
        "Note:\n",
        "The first character has index 0.\n",
        "\n"
      ],
      "metadata": {
        "id": "K7-pVR0n3dhW"
      }
    },
    {
      "cell_type": "markdown",
      "source": [
        "#####Slice From the Start\n",
        "* By leaving out the start index, the range will start at the first character:\n",
        "\n",
        "* Example :  Get the characters from the start to position 5 (not included):"
      ],
      "metadata": {
        "id": "nkdiMxkb3pUW"
      }
    },
    {
      "cell_type": "code",
      "source": [
        "print(b[:5])"
      ],
      "metadata": {
        "id": "-yhPqazZ3z0y",
        "outputId": "3d099d0b-7db1-452b-9e47-4fb4fd1baed2",
        "colab": {
          "base_uri": "https://localhost:8080/"
        }
      },
      "execution_count": null,
      "outputs": [
        {
          "output_type": "stream",
          "name": "stdout",
          "text": [
            "hello\n"
          ]
        }
      ]
    },
    {
      "cell_type": "markdown",
      "source": [
        "##### Slice To the End\n",
        "* By leaving out the end index, the range will go to the end:\n",
        "\n",
        "* Example: Get the characters from position 2, and all the way to the end:\n"
      ],
      "metadata": {
        "id": "qhidD_wS4Adh"
      }
    },
    {
      "cell_type": "code",
      "source": [
        "print(c[1:])"
      ],
      "metadata": {
        "id": "oNvO7zMj4KZG",
        "outputId": "9e99d65a-ceab-4551-9a72-10e08770f6c5",
        "colab": {
          "base_uri": "https://localhost:8080/"
        }
      },
      "execution_count": null,
      "outputs": [
        {
          "output_type": "stream",
          "name": "stdout",
          "text": [
            "el ol\n"
          ]
        }
      ]
    },
    {
      "cell_type": "markdown",
      "source": [
        "#### Negative Indexing\n",
        "* Use negative indexes to start the slice from the end of the string:\n",
        "* Example\n",
        "Get the characters:\n",
        "\n",
        "From: \"o\" in \"World!\" (position -5)\n",
        "\n",
        "To, but not included: \"d\" in \"World!\" (position -2):"
      ],
      "metadata": {
        "id": "FZqTPg0h4pt6"
      }
    },
    {
      "cell_type": "code",
      "source": [
        "b = \"Hello, World!\"\n",
        "print(b[-5:-2])"
      ],
      "metadata": {
        "id": "eZKAsTNu46GM",
        "outputId": "bdff6477-e369-4e07-9454-9ce2896d971d",
        "colab": {
          "base_uri": "https://localhost:8080/"
        }
      },
      "execution_count": null,
      "outputs": [
        {
          "output_type": "stream",
          "name": "stdout",
          "text": [
            "orl\n"
          ]
        }
      ]
    },
    {
      "cell_type": "markdown",
      "source": [
        "####String Methods\n",
        "* Python has a set of built-in methods that you can use on strings.\n",
        "\n",
        "* Note: All string methods returns new values. They do not change the original string.\n",
        "\n",
        "* Some of the  most comman functions to perform operations on or manipulate strings are:\n",
        "\n",
        "1. len()\n",
        "2. string.count()\n",
        "3. string.capitalize()\n",
        "4. string.find(word)\n",
        "5. string.replace(oldtext, newtext)\n",
        "6. string.lower()\n",
        "7. string.upper()\n",
        "8. string.center()\n",
        "\n"
      ],
      "metadata": {
        "id": "ppbpAXhl5lfH"
      }
    },
    {
      "cell_type": "code",
      "source": [
        "a=\"hello World This is  Kousar raza\"\n",
        "\n",
        "#find len\n",
        "print(len(a))\n",
        "\n",
        "#count 0 from a\n",
        "print(a.count('o'))\n",
        "\n",
        "#capitalize\n",
        "print(a.capitalize())\n",
        "\n",
        "#find string from a\n",
        "\n",
        "print(a.find(\"raza\"))\n",
        "\n",
        "#replace\n",
        "\n",
        "print(a.replace(\"This is Kousar raza\",\"Kousar Raza\"))"
      ],
      "metadata": {
        "colab": {
          "base_uri": "https://localhost:8080/"
        },
        "id": "mo-fUDZqgQL9",
        "outputId": "14afa820-3766-412b-89af-99787c4a17a6"
      },
      "execution_count": 5,
      "outputs": [
        {
          "output_type": "stream",
          "name": "stdout",
          "text": [
            "32\n",
            "3\n",
            "Hello world this is  kousar raza\n",
            "28\n",
            "hello World This is  Kousar raza\n"
          ]
        }
      ]
    }
  ]
}