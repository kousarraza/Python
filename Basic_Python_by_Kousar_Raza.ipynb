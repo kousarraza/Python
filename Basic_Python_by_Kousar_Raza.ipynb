{
  "nbformat": 4,
  "nbformat_minor": 0,
  "metadata": {
    "colab": {
      "provenance": [],
      "toc_visible": true,
      "collapsed_sections": [
        "2-vyAn3N-Uuz"
      ],
      "authorship_tag": "ABX9TyNTfPjk8XFiM0Hwf5yMXxHi",
      "include_colab_link": true
    },
    "kernelspec": {
      "name": "python3",
      "display_name": "Python 3"
    },
    "language_info": {
      "name": "python"
    }
  },
  "cells": [
    {
      "cell_type": "markdown",
      "metadata": {
        "id": "view-in-github",
        "colab_type": "text"
      },
      "source": [
        "<a href=\"https://colab.research.google.com/github/kousarraza/Python/blob/main/Basic_Python_by_Kousar_Raza.ipynb\" target=\"_parent\"><img src=\"https://colab.research.google.com/assets/colab-badge.svg\" alt=\"Open In Colab\"/></a>"
      ]
    },
    {
      "cell_type": "markdown",
      "source": [],
      "metadata": {
        "id": "OlV74ahiadS-"
      }
    },
    {
      "cell_type": "markdown",
      "source": [
        "#Hello Word"
      ],
      "metadata": {
        "id": "JYtuLuS44Lbw"
      }
    },
    {
      "cell_type": "code",
      "source": [
        "print(\"Hello World\")"
      ],
      "metadata": {
        "colab": {
          "base_uri": "https://localhost:8080/"
        },
        "id": "miPLTFmd4ZPd",
        "outputId": "c48eb9b5-4aea-4e76-b298-850b98282d5b"
      },
      "execution_count": null,
      "outputs": [
        {
          "output_type": "stream",
          "name": "stdout",
          "text": [
            "Hello World\n"
          ]
        }
      ]
    },
    {
      "cell_type": "markdown",
      "source": [
        "# Comments\n",
        "Comments\n",
        "Uses\n",
        "\n",
        "Comments can be used to explain Python code.\n",
        "Comments can be used to make the code more readable.\n",
        "Comments can be used to prevent execution when testing code.\n",
        "\n",
        "Types\n",
        "\n",
        "Single line comment\n",
        "Multi line comment\n"
      ],
      "metadata": {
        "id": "2-vyAn3N-Uuz"
      }
    },
    {
      "cell_type": "code",
      "source": [
        "#This is Single Line Comment\n",
        "print(\"Single Comment\")\n",
        "\n",
        "\"\"\"\n",
        "This is Mutli Line Comment\n",
        "\"\"\"\n",
        "\n",
        "'''\n",
        "This is Also Multi Line Comment\n",
        "\n",
        "'''"
      ],
      "metadata": {
        "colab": {
          "base_uri": "https://localhost:8080/",
          "height": 53
        },
        "id": "8EPGHfl3_DUA",
        "outputId": "5c7b5da9-e1d8-4b5c-f8e6-4455de6575ba"
      },
      "execution_count": null,
      "outputs": [
        {
          "output_type": "stream",
          "name": "stdout",
          "text": [
            "Single Comment\n"
          ]
        },
        {
          "output_type": "execute_result",
          "data": {
            "text/plain": [
              "'\\nThis is Also Multi Line Comment\\n\\n'"
            ],
            "application/vnd.google.colaboratory.intrinsic+json": {
              "type": "string"
            }
          },
          "metadata": {},
          "execution_count": 6
        }
      ]
    },
    {
      "cell_type": "code",
      "source": [],
      "metadata": {
        "id": "6c2GYI7r_WKD"
      },
      "execution_count": null,
      "outputs": []
    },
    {
      "cell_type": "markdown",
      "source": [
        "# Data Type and Variables\n",
        "\n",
        "\n",
        "A variable should be named according to following rules:\n",
        "\n",
        "1. A variable name can only contain alpha-numeric characters and underscores (A-z, 0-9, and _ ).\n",
        "2. A variable name must start with a letter or the underscore character.\n",
        "3. Variable names are case sensitive.\n",
        "4.Variable name shouldn't be any keyword of Python."
      ],
      "metadata": {
        "id": "Xsopy107_rm3"
      }
    },
    {
      "cell_type": "markdown",
      "source": [
        "# Naming a Multi words Varaible\n",
        "\n",
        "3 methods to name a variable:\n",
        "\n",
        "1.Pascal Case\n",
        "\n",
        "2.Snake Case\n",
        "\n",
        "3. Camel Case"
      ],
      "metadata": {
        "id": "_w79yNYKAlvh"
      }
    },
    {
      "cell_type": "code",
      "source": [
        "#Camel Case Variable\n",
        "#always starts out lowercase with each word delimited by a capital letter\n",
        "classThreeStudents=45\n",
        "bigThree=\"India\",\"Austrilia\",\"England\"\n",
        "print(classThreeStudents)\n"
      ],
      "metadata": {
        "colab": {
          "base_uri": "https://localhost:8080/"
        },
        "id": "HreU7lM8AxA1",
        "outputId": "65278511-c552-4ea3-9d46-8a6364814a98"
      },
      "execution_count": null,
      "outputs": [
        {
          "output_type": "stream",
          "name": "stdout",
          "text": [
            "45\n"
          ]
        }
      ]
    },
    {
      "cell_type": "code",
      "source": [
        "#Pascal Case Variable\n",
        "# It is similar to camel case, but the first letter is always capitalized.\n",
        "Myname=\"Kousar Raza\"\n",
        "Yourname=\"ABC\"\n",
        "print(Myname)"
      ],
      "metadata": {
        "id": "E1D0k4JSBuOu"
      },
      "execution_count": null,
      "outputs": []
    },
    {
      "cell_type": "code",
      "source": [
        "#Snake Case Variable\n",
        "#It means that we delimit words with an underscore.\n",
        "class_Three_Total_Students=45\n"
      ],
      "metadata": {
        "id": "NLcOmGpjCsgC"
      },
      "execution_count": null,
      "outputs": []
    }
  ]
}