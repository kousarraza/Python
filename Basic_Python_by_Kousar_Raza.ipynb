{
  "nbformat": 4,
  "nbformat_minor": 0,
  "metadata": {
    "colab": {
      "provenance": [],
      "toc_visible": true,
      "collapsed_sections": [
        "2-vyAn3N-Uuz"
      ],
      "authorship_tag": "ABX9TyO0KHjPPQ2rk1VJI/vJgeon",
      "include_colab_link": true
    },
    "kernelspec": {
      "name": "python3",
      "display_name": "Python 3"
    },
    "language_info": {
      "name": "python"
    }
  },
  "cells": [
    {
      "cell_type": "markdown",
      "metadata": {
        "id": "view-in-github",
        "colab_type": "text"
      },
      "source": [
        "<a href=\"https://colab.research.google.com/github/kousarraza/Python/blob/main/Basic_Python_by_Kousar_Raza.ipynb\" target=\"_parent\"><img src=\"https://colab.research.google.com/assets/colab-badge.svg\" alt=\"Open In Colab\"/></a>"
      ]
    },
    {
      "cell_type": "markdown",
      "source": [
        "#Day-1\n"
      ],
      "metadata": {
        "id": "X6HJjQ3eqaym"
      }
    },
    {
      "cell_type": "markdown",
      "source": [
        "## What is Python?\n",
        "Python is a popular programming language. It was created by Guido van Rossum, and released in 1991.\n",
        "\n",
        "It is used for:\n",
        "\n",
        "* web development (server-side),\n",
        "* software development,\n",
        "* mathematics, system scripting."
      ],
      "metadata": {
        "id": "ivoWzPIyqi09"
      }
    },
    {
      "cell_type": "markdown",
      "source": [
        "## What can Python do?\n",
        "* Python can be used on a server to create web applications.\n",
        "* Python can be used alongside software to create workflows.\n",
        "* Python can connect to database systems. It can also read and modify files.\n",
        "* Python can be used to handle big data and perform complex mathematics.\n",
        "* Python can be used for rapid prototyping, or for production-ready software development."
      ],
      "metadata": {
        "id": "AhJXftQaqw6W"
      }
    },
    {
      "cell_type": "markdown",
      "source": [
        "## Why Python?\n",
        "* Python works on different platforms (Windows, Mac, Linux, Raspberry Pi, etc).\n",
        "* Python has a simple syntax similar to the English language.\n",
        "* Python has syntax that allows developers to write programs with fewer lines than some other programming languages.\n",
        "* Python runs on an interpreter system, meaning that code can be executed as soon as it is written. This means that prototyping can be very quick.\n",
        "* Python can be treated in a procedural way, an object-oriented way or a functional way."
      ],
      "metadata": {
        "id": "x7f9wBzeq56Y"
      }
    },
    {
      "cell_type": "markdown",
      "source": [
        "##Python Indentation\n",
        "* Indentation refers to the spaces at the beginning of a code line.\n",
        "\n",
        "* Where in other programming languages the indentation in code is for readability only, the indentation in Python is very important.\n",
        "\n",
        "Python uses indentation to indicate a block of code."
      ],
      "metadata": {
        "id": "3C3SxhI3rckv"
      }
    },
    {
      "cell_type": "markdown",
      "source": [
        "##First Program"
      ],
      "metadata": {
        "id": "JYtuLuS44Lbw"
      }
    },
    {
      "cell_type": "code",
      "source": [
        "print(\"Hello World\")"
      ],
      "metadata": {
        "colab": {
          "base_uri": "https://localhost:8080/"
        },
        "id": "miPLTFmd4ZPd",
        "outputId": "f2de0c87-7ff3-4589-d207-a1218a58d758"
      },
      "execution_count": 1,
      "outputs": [
        {
          "output_type": "stream",
          "name": "stdout",
          "text": [
            "Hello World\n"
          ]
        }
      ]
    },
    {
      "cell_type": "markdown",
      "source": [
        "#Day-2"
      ],
      "metadata": {
        "id": "VcgY2PG9v06K"
      }
    },
    {
      "cell_type": "markdown",
      "source": [
        "## Python Comments\n",
        "### Comments Uses\n",
        "\n",
        "* Comments can be used to explain Python code.\n",
        "* Comments can be used to make the code more readable.\n",
        "* Comments can be used to prevent execution when testing code.\n",
        "\n"
      ],
      "metadata": {
        "id": "2-vyAn3N-Uuz"
      }
    },
    {
      "cell_type": "markdown",
      "source": [
        "\n",
        "## Type of Comments in Python\n",
        "\n",
        "1. Single line comment\n",
        "2. Multi line comment"
      ],
      "metadata": {
        "id": "sOYB4PbSwneQ"
      }
    },
    {
      "cell_type": "code",
      "source": [
        "#This is Single Line Comment\n",
        "print(\"Single Comment\")\n",
        "\n",
        "\"\"\"\n",
        "This is Mutli Line Comment\n",
        "\"\"\"\n",
        "\n",
        "'''\n",
        "This is Also Multi Line Comment\n",
        "\n",
        "'''"
      ],
      "metadata": {
        "colab": {
          "base_uri": "https://localhost:8080/",
          "height": 53
        },
        "id": "8EPGHfl3_DUA",
        "outputId": "5c7b5da9-e1d8-4b5c-f8e6-4455de6575ba"
      },
      "execution_count": null,
      "outputs": [
        {
          "output_type": "stream",
          "name": "stdout",
          "text": [
            "Single Comment\n"
          ]
        },
        {
          "output_type": "execute_result",
          "data": {
            "text/plain": [
              "'\\nThis is Also Multi Line Comment\\n\\n'"
            ],
            "application/vnd.google.colaboratory.intrinsic+json": {
              "type": "string"
            }
          },
          "metadata": {},
          "execution_count": 6
        }
      ]
    },
    {
      "cell_type": "markdown",
      "source": [
        "## Variables\n",
        "\n",
        "\n",
        "A variable should be named according to following rules:\n",
        "\n",
        "1. A variable name can only contain alpha-numeric characters and underscores (A-z, 0-9, and _ ).\n",
        "2. A variable name must start with a letter or the underscore character.\n",
        "3. Variable names are case sensitive.\n",
        "4.Variable name shouldn't be any keyword of Python."
      ],
      "metadata": {
        "id": "Xsopy107_rm3"
      }
    },
    {
      "cell_type": "markdown",
      "source": [
        "## Naming a Multi words Varaible\n",
        "* Variable names with more than one word can be difficult to read.\n",
        "\n",
        "* There are several techniques you can use to make them more readable:\n",
        "\n",
        "3 methods to name a variable:\n",
        "\n",
        "1. Camel Case\n",
        "\n",
        "2. Pascal  Case\n",
        "\n",
        "3. Snake Case"
      ],
      "metadata": {
        "id": "_w79yNYKAlvh"
      }
    },
    {
      "cell_type": "markdown",
      "source": [
        "###Camel Case\n",
        "* When using camel case, you start by making the first word lowercase. Then, you capitalize the first letter of each word that follows.\n",
        "\n",
        "* So, a capital letter appears at the start of the second word and at each new subsequent word that follows it.\n",
        "* Each word, except the first, starts with a capital letter:"
      ],
      "metadata": {
        "id": "BV9pUpzzzkBc"
      }
    },
    {
      "cell_type": "code",
      "source": [
        "#Camel Case Variable\n",
        "classThreeStudents=45\n",
        "bigThree=\"India\",\"Austrilia\",\"England\"\n",
        "print(classThreeStudents)\n"
      ],
      "metadata": {
        "colab": {
          "base_uri": "https://localhost:8080/"
        },
        "id": "HreU7lM8AxA1",
        "outputId": "65278511-c552-4ea3-9d46-8a6364814a98"
      },
      "execution_count": null,
      "outputs": [
        {
          "output_type": "stream",
          "name": "stdout",
          "text": [
            "45\n"
          ]
        }
      ]
    },
    {
      "cell_type": "markdown",
      "source": [
        "###Pascal Case\n",
        "* Pascal case is similar to camel case.\n",
        "* Each word starts with a capital letter:\n",
        "* The only difference between the two is that pascal case requires the first letter of the first word to also be capitalized.\n",
        "\n",
        "* So, when using pascal case, every word starts with an uppercase letter (in contrast to camel case, where the first word is in lowercase).\n"
      ],
      "metadata": {
        "id": "ADVSsaHS0S59"
      }
    },
    {
      "cell_type": "code",
      "source": [
        "#Pascal Case Variable\n",
        "Myname=\"Kousar Raza\"\n",
        "Yourname=\"ABC\"\n",
        "print(Myname)"
      ],
      "metadata": {
        "id": "E1D0k4JSBuOu"
      },
      "execution_count": null,
      "outputs": []
    },
    {
      "cell_type": "markdown",
      "source": [
        "### Snake Case\n",
        "* Snake case is used for creating variable and method names.\n",
        "\n",
        "* Each word is separated by an underscore character\n",
        "* Snake case is also a good choice for naming files, as it keeps names readable.\n",
        "\n",
        "* You will typically encounter it the most when programming in Python and not so much when programming in Java, JavaScript, or TypeScript.\n",
        "\n",
        "* You will also come across it when working with databases, as it is used for creating table and column names.\n",
        "\n",
        "* There is also an all-caps version of the snake case where all letters are in the upper case - also known as the screaming snake case."
      ],
      "metadata": {
        "id": "aJpypLAz0-VC"
      }
    },
    {
      "cell_type": "code",
      "source": [
        "#Snake Case Variable\n",
        "#It means that we delimit words with an underscore.\n",
        "class_Three_Total_Students=45\n"
      ],
      "metadata": {
        "id": "NLcOmGpjCsgC"
      },
      "execution_count": null,
      "outputs": []
    },
    {
      "cell_type": "markdown",
      "source": [
        "## Many Values to Multiple Variables\n",
        "Python allows you to assign values to multiple variables in one line:"
      ],
      "metadata": {
        "id": "sAYjpv4s1vIF"
      }
    },
    {
      "cell_type": "code",
      "source": [
        "x,y ,z= \"Green\",\"Blue\",\"Black\"\n",
        "print(x,y,z)"
      ],
      "metadata": {
        "id": "MKG34wQr13pP",
        "outputId": "baadada9-9e0d-4f04-8e03-59ef2af87f71",
        "colab": {
          "base_uri": "https://localhost:8080/"
        }
      },
      "execution_count": 2,
      "outputs": [
        {
          "output_type": "stream",
          "name": "stdout",
          "text": [
            "Green Blue Black\n"
          ]
        }
      ]
    },
    {
      "cell_type": "markdown",
      "source": [
        "## One Value to Multiple Variables\n",
        "* And you can assign the same value to multiple variables in one line"
      ],
      "metadata": {
        "id": "KkxiBLv72kUO"
      }
    },
    {
      "cell_type": "code",
      "source": [
        "x = y = z = \"Orange\"\n",
        "print(x)\n",
        "print(y)\n",
        "print(z)"
      ],
      "metadata": {
        "id": "5g1lmigD2_s8",
        "outputId": "a516e1e9-c43b-4fd6-e31a-b85f9f33b3ef",
        "colab": {
          "base_uri": "https://localhost:8080/"
        }
      },
      "execution_count": 3,
      "outputs": [
        {
          "output_type": "stream",
          "name": "stdout",
          "text": [
            "Orange\n",
            "Orange\n",
            "Orange\n"
          ]
        }
      ]
    },
    {
      "cell_type": "markdown",
      "source": [
        "## Output Variables\n",
        "* The Python print() function is often used to output variables."
      ],
      "metadata": {
        "id": "aVWpCOjO3ZWi"
      }
    },
    {
      "cell_type": "code",
      "source": [
        "x = \"Python is awesome\"\n",
        "print(x)"
      ],
      "metadata": {
        "id": "aAkfxRNM32br",
        "outputId": "232d937d-dea4-433e-9fae-7472a2eaed05",
        "colab": {
          "base_uri": "https://localhost:8080/"
        }
      },
      "execution_count": 4,
      "outputs": [
        {
          "output_type": "stream",
          "name": "stdout",
          "text": [
            "Python is awesome\n"
          ]
        }
      ]
    },
    {
      "cell_type": "markdown",
      "source": [
        "In the print() function, you output multiple variables, separated by a comma:"
      ],
      "metadata": {
        "id": "O4PC6nIu38sh"
      }
    },
    {
      "cell_type": "code",
      "source": [
        "x = \"Python\"\n",
        "y = \"is\"\n",
        "z = \"awesome\"\n",
        "print(x, y, z)"
      ],
      "metadata": {
        "id": "gc8x8Yi54QMD",
        "outputId": "468245b0-93cf-43cc-bf77-429312e18b79",
        "colab": {
          "base_uri": "https://localhost:8080/"
        }
      },
      "execution_count": 5,
      "outputs": [
        {
          "output_type": "stream",
          "name": "stdout",
          "text": [
            "Python is awesome\n"
          ]
        }
      ]
    },
    {
      "cell_type": "markdown",
      "source": [
        "You can also use the + operator to output multiple variables:"
      ],
      "metadata": {
        "id": "iHHjfH7L4dSc"
      }
    },
    {
      "cell_type": "code",
      "source": [
        "x = \"Python \"\n",
        "y = \"is \"\n",
        "z = \"awesome\"\n",
        "print(x + y + z)"
      ],
      "metadata": {
        "id": "EKsfWzWN4enA",
        "outputId": "21db9b03-19f0-42da-e030-ce092569a56e",
        "colab": {
          "base_uri": "https://localhost:8080/"
        }
      },
      "execution_count": 6,
      "outputs": [
        {
          "output_type": "stream",
          "name": "stdout",
          "text": [
            "Python is awesome\n"
          ]
        }
      ]
    }
  ]
}