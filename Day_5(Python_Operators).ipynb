{
  "nbformat": 4,
  "nbformat_minor": 0,
  "metadata": {
    "colab": {
      "provenance": [],
      "toc_visible": true,
      "authorship_tag": "ABX9TyMgLIDr2bIXFnBMFPC+bZfU",
      "include_colab_link": true
    },
    "kernelspec": {
      "name": "python3",
      "display_name": "Python 3"
    },
    "language_info": {
      "name": "python"
    }
  },
  "cells": [
    {
      "cell_type": "markdown",
      "metadata": {
        "id": "view-in-github",
        "colab_type": "text"
      },
      "source": [
        "<a href=\"https://colab.research.google.com/github/kousarraza/Python/blob/main/Day_5(Python_Operators).ipynb\" target=\"_parent\"><img src=\"https://colab.research.google.com/assets/colab-badge.svg\" alt=\"Open In Colab\"/></a>"
      ]
    },
    {
      "cell_type": "markdown",
      "source": [
        "#Day_5"
      ],
      "metadata": {
        "id": "yvb8Lz-6ZPCk"
      }
    },
    {
      "cell_type": "markdown",
      "source": [
        "##Python Operators\n",
        "* Operators are used to perform operations on variables and values.\n",
        "\n",
        "Python divides the operators in the following groups:\n",
        "\n",
        "1. Arithmetic operators\n",
        "2. Assignment operators\n",
        "3. Comparison operators\n",
        "4. Logical operators\n",
        "5. Identity operators\n",
        "6. Membership operators\n",
        "7. Bitwise operators"
      ],
      "metadata": {
        "id": "2gaNcxqheUwB"
      }
    },
    {
      "cell_type": "markdown",
      "source": [
        "### Arithmetic operators\n",
        "Arithnetic operators  are used with numeric values to perform common mathematical operations:\n",
        "\n",
        "1. Addition(+)\n",
        "2. Subtraction(-)\n",
        "3. Multiplication(*)\n",
        "4. Division(/)\n",
        "5. Modulus (%)\n",
        "6. Exponentiation(**)\n",
        "7. Floor Division(//)\n",
        "\n"
      ],
      "metadata": {
        "id": "g55Ay1ble3YF"
      }
    },
    {
      "cell_type": "code",
      "execution_count": null,
      "metadata": {
        "colab": {
          "base_uri": "https://localhost:8080/"
        },
        "id": "ZVTIPfiReRfo",
        "outputId": "3a452767-b14a-4974-f790-73f909e13e4e"
      },
      "outputs": [
        {
          "output_type": "stream",
          "name": "stdout",
          "text": [
            "8\n",
            "3\n",
            "12\n",
            "2.0\n",
            "2\n",
            "9\n",
            "4\n"
          ]
        }
      ],
      "source": [
        "print(3+5) #addition\n",
        "\n",
        "print(6-3) #subtraction\n",
        "\n",
        "print(4 *3) # multiplication\n",
        "\n",
        "print(8/4) # division\n",
        "\n",
        "print(6%4) #modulus\n",
        "\n",
        "print(3**2) # exponentiation\n",
        "\n",
        "print(19//4)  #the floor division // rounds the result down to the nearest whole number"
      ]
    },
    {
      "cell_type": "markdown",
      "source": [
        "### Python Assignment Operators\n",
        "Assignment operators are used to assign values to variables:\n",
        "\n",
        "1.  =\n",
        "2. +=\tx += 3\tx = x + 3\n",
        "3. -=\tx -= 3\tx = x - 3\n",
        "4. *=\tx *= 3\tx = x * 3\n",
        "5. /=\tx /= 3\tx = x / 3\n",
        "6. %=\tx %= 3\tx = x % 3\n",
        "7. //=\tx //= 3\tx = x // 3\n",
        "8. **=\tx **= 3\tx = x ** 3\n"
      ],
      "metadata": {
        "id": "BDDJ2Jtchk22"
      }
    },
    {
      "cell_type": "code",
      "source": [
        "x=4\n",
        "print(x)\n",
        "\n",
        "x+=1 #same\n",
        "x=x+1 #same\n",
        "\n",
        "print(x)\n",
        "\n"
      ],
      "metadata": {
        "colab": {
          "base_uri": "https://localhost:8080/"
        },
        "id": "wMEClXXTi4U3",
        "outputId": "e2223b5c-35c1-400f-f538-3b4896c213a4"
      },
      "execution_count": null,
      "outputs": [
        {
          "output_type": "stream",
          "name": "stdout",
          "text": [
            "4\n",
            "6\n"
          ]
        }
      ]
    },
    {
      "cell_type": "markdown",
      "source": [
        "### Python Comparison Operators\n",
        "\n",
        "Comparison operators are used to compare two values:\n",
        "\n",
        "1. ==\tEqual\n",
        "2. !=\tNot equal\n",
        "3. > Greater than\n",
        "4. <\tLess than\n",
        "5. >=\tGreater than or equal to\n",
        "6. <=\tLess than or equal to"
      ],
      "metadata": {
        "id": "cEHAf2M9jgAv"
      }
    },
    {
      "cell_type": "code",
      "source": [
        "c=3\n",
        "d=4\n",
        "print(c==d)#equal\n",
        "\n",
        "print(c!=d)\n"
      ],
      "metadata": {
        "colab": {
          "base_uri": "https://localhost:8080/"
        },
        "id": "h81SuJ6Kj9sh",
        "outputId": "ca588705-7249-4eb6-b05e-3fba90aae5fb"
      },
      "execution_count": 2,
      "outputs": [
        {
          "output_type": "stream",
          "name": "stdout",
          "text": [
            "False\n",
            "True\n"
          ]
        }
      ]
    },
    {
      "cell_type": "code",
      "source": [
        "print(c>2)\n",
        "print(d<2)"
      ],
      "metadata": {
        "colab": {
          "base_uri": "https://localhost:8080/"
        },
        "id": "3bq0ngytYe50",
        "outputId": "d224e19f-0fdd-4400-a377-707dd7458bd2"
      },
      "execution_count": 3,
      "outputs": [
        {
          "output_type": "stream",
          "name": "stdout",
          "text": [
            "True\n",
            "False\n"
          ]
        }
      ]
    },
    {
      "cell_type": "code",
      "source": [
        "print(c>=3)\n",
        "print(2<=d)"
      ],
      "metadata": {
        "colab": {
          "base_uri": "https://localhost:8080/"
        },
        "id": "8xWV2smUYrQV",
        "outputId": "573faeee-79f9-44dd-b9d9-6737f371ba38"
      },
      "execution_count": 4,
      "outputs": [
        {
          "output_type": "stream",
          "name": "stdout",
          "text": [
            "True\n",
            "True\n"
          ]
        }
      ]
    },
    {
      "cell_type": "markdown",
      "source": [
        "###Python Logical Operators\n",
        "Logical operators are used to combine conditional statements:\n",
        "\n",
        "* and \tReturns True if both statements are true\n",
        "* or\tReturns True if one of the statements is true\n",
        "* not\tReverse the result, returns False if the result is true\tnot"
      ],
      "metadata": {
        "id": "Vv0-6XnRZDnW"
      }
    },
    {
      "cell_type": "code",
      "source": [
        "a=10\n",
        "b=100\n",
        "print(a==10 and b==100)\n",
        "print(10==12 and b==10)\n",
        "\n",
        "print(a>b or b!=a)\n",
        "\n",
        "print(b!=a or b<a)\n",
        "\n",
        "print(not(a))"
      ],
      "metadata": {
        "colab": {
          "base_uri": "https://localhost:8080/"
        },
        "id": "Ox951KARZpcR",
        "outputId": "637b3028-090d-499a-b11f-cc3f73eb69e0"
      },
      "execution_count": 10,
      "outputs": [
        {
          "output_type": "stream",
          "name": "stdout",
          "text": [
            "True\n",
            "False\n",
            "True\n",
            "True\n",
            "False\n"
          ]
        }
      ]
    },
    {
      "cell_type": "markdown",
      "source": [
        "###Python Identity Operators\n",
        "*`is` Returns True if both variables are the same object\n",
        "\n",
        "`is not` Returns True if both variables are not the same object\n",
        "\n"
      ],
      "metadata": {
        "id": "RIX36qzcah8n"
      }
    },
    {
      "cell_type": "code",
      "source": [
        "a=23\n",
        "b=23.2\n",
        "print(a is b)\n",
        "print(id(a))\n",
        "print(id(b))\n",
        "\n",
        "c=10\n",
        "d=\"10\"\n",
        "print(c is d)\n",
        "\n",
        "e=10\n",
        "\n",
        "print(10 is e)\n",
        "\n",
        "print( b is not a)"
      ],
      "metadata": {
        "colab": {
          "base_uri": "https://localhost:8080/"
        },
        "id": "H-UAgNACatyG",
        "outputId": "452fb6a1-8d25-4b31-c1fc-d1201b0a9626"
      },
      "execution_count": 21,
      "outputs": [
        {
          "output_type": "stream",
          "name": "stdout",
          "text": [
            "False\n",
            "134084375233456\n",
            "134083103363504\n",
            "False\n",
            "True\n",
            "True\n"
          ]
        },
        {
          "output_type": "stream",
          "name": "stderr",
          "text": [
            "<>:13: SyntaxWarning: \"is\" with a literal. Did you mean \"==\"?\n",
            "<>:13: SyntaxWarning: \"is\" with a literal. Did you mean \"==\"?\n",
            "<ipython-input-21-ebfa89dfbaa5>:13: SyntaxWarning: \"is\" with a literal. Did you mean \"==\"?\n",
            "  print(10 is e)\n"
          ]
        }
      ]
    },
    {
      "cell_type": "markdown",
      "source": [
        "###Membership Operators\n",
        "Membership operators are used to test if a sequence is presented in an object\n",
        "\n",
        "* in Returns \"True\" if a sequence with the specified value is present in the object\n",
        "\n",
        "* not in Returns \"True\" if a sequence with the specified value is not present in the object"
      ],
      "metadata": {
        "id": "i-4hRb7zePVP"
      }
    },
    {
      "cell_type": "code",
      "source": [
        "var1 = \"Python for Beginners\"\n",
        "print(\"y\" in var1)\n",
        "var2 = [\"orange\", 5, \"3.5\"]\n",
        "print(\"orange\" not in var2)\n",
        "\n",
        "print(\"O\" in \"iCodeGuru\")"
      ],
      "metadata": {
        "colab": {
          "base_uri": "https://localhost:8080/"
        },
        "id": "6PFTx-DLeUJq",
        "outputId": "335aceb6-68b3-4abb-f1cf-4b1cc65588fd"
      },
      "execution_count": 22,
      "outputs": [
        {
          "output_type": "stream",
          "name": "stdout",
          "text": [
            "True\n",
            "False\n",
            "False\n"
          ]
        }
      ]
    },
    {
      "cell_type": "code",
      "source": [
        "print(\"x\" not in var1)"
      ],
      "metadata": {
        "colab": {
          "base_uri": "https://localhost:8080/"
        },
        "id": "8Qf3HPvmee2n",
        "outputId": "a6b13505-20e4-4c20-8ba9-7e2f1942f3fe"
      },
      "execution_count": 23,
      "outputs": [
        {
          "output_type": "stream",
          "name": "stdout",
          "text": [
            "True\n"
          ]
        }
      ]
    }
  ]
}