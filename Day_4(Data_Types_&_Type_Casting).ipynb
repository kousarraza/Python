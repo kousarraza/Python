{
  "nbformat": 4,
  "nbformat_minor": 0,
  "metadata": {
    "colab": {
      "provenance": [],
      "toc_visible": true,
      "authorship_tag": "ABX9TyOH1gOywhFgl5vbRYApXLDX",
      "include_colab_link": true
    },
    "kernelspec": {
      "name": "python3",
      "display_name": "Python 3"
    },
    "language_info": {
      "name": "python"
    }
  },
  "cells": [
    {
      "cell_type": "markdown",
      "metadata": {
        "id": "view-in-github",
        "colab_type": "text"
      },
      "source": [
        "<a href=\"https://colab.research.google.com/github/kousarraza/Python/blob/main/Day_4(Data_Types_%26_Type_Casting).ipynb\" target=\"_parent\"><img src=\"https://colab.research.google.com/assets/colab-badge.svg\" alt=\"Open In Colab\"/></a>"
      ]
    },
    {
      "cell_type": "markdown",
      "source": [
        "#Day_4"
      ],
      "metadata": {
        "id": "kgWao0b2nzao"
      }
    },
    {
      "cell_type": "markdown",
      "source": [
        "##Data Types\n",
        "* In programming, data type is an important concept.\n",
        "\n",
        "* Variables can store data of different types, and different types can do different things.\n",
        "\n",
        "Python has the following data types built-in by default, in these categories:\n",
        "\n",
        "1.Text Type: str\n",
        "\n",
        "2. Numeric Types: int, float, complex\n",
        "\n",
        "3. Sequence Types: list, tuple, range\n",
        "\n",
        "4. Mapping Type: dict\n",
        "\n",
        "5. Set Types: set, frozenset\n",
        "\n",
        "6. Boolean Type: bool\n",
        "\n",
        "7. Binary Types: bytes, bytearray, memoryview\n",
        "\n",
        "8. None Type: NoneType"
      ],
      "metadata": {
        "id": "0Wo6OYiCn32h"
      }
    },
    {
      "cell_type": "markdown",
      "source": [
        "### Python Numbers\n",
        "There are three numeric types in Python:\n",
        "\n",
        "1. int\n",
        "2. float\n",
        "3. complex"
      ],
      "metadata": {
        "id": "E9Mjku16oVZ2"
      }
    },
    {
      "cell_type": "code",
      "execution_count": 1,
      "metadata": {
        "colab": {
          "base_uri": "https://localhost:8080/"
        },
        "id": "KspGZ1sonlGc",
        "outputId": "a7189291-25cb-4d46-a9c7-2e260e9797ea"
      },
      "outputs": [
        {
          "output_type": "stream",
          "name": "stdout",
          "text": [
            "24 2.5 1j\n"
          ]
        }
      ],
      "source": [
        "x=24 #int data type\n",
        "y=2.5  #float data type\n",
        "z= 1j  # copmlex data type\n",
        "print(x,y,z)"
      ]
    },
    {
      "cell_type": "markdown",
      "source": [
        "####Int\n",
        "Int, or integer, is a whole number, positive or negative, without decimals, of unlimited length."
      ],
      "metadata": {
        "id": "vCMFj9_qolKU"
      }
    },
    {
      "cell_type": "code",
      "source": [
        "x = 1\n",
        "y = 35656222554887711\n",
        "z = -3255522\n",
        "print(x)"
      ],
      "metadata": {
        "colab": {
          "base_uri": "https://localhost:8080/"
        },
        "id": "IqheeCldopER",
        "outputId": "1751a8e3-2f5c-4f54-8cff-4747e176420f"
      },
      "execution_count": 9,
      "outputs": [
        {
          "output_type": "stream",
          "name": "stdout",
          "text": [
            "1\n"
          ]
        }
      ]
    },
    {
      "cell_type": "markdown",
      "source": [
        "####float\n",
        "* Float, or \"floating point number\" is a number, positive or negative, containing one or more decimals."
      ],
      "metadata": {
        "id": "xorqNmHeosoW"
      }
    },
    {
      "cell_type": "code",
      "source": [
        "f1 = 1.10\n",
        "f2 = 1.0\n",
        "f3 = -35.59\n",
        "print(f1)"
      ],
      "metadata": {
        "colab": {
          "base_uri": "https://localhost:8080/"
        },
        "id": "JeuMicrqo1Bx",
        "outputId": "884cf4cf-ddd6-4e28-ee33-cdb96291fa13"
      },
      "execution_count": 8,
      "outputs": [
        {
          "output_type": "stream",
          "name": "stdout",
          "text": [
            "1.1\n"
          ]
        }
      ]
    },
    {
      "cell_type": "markdown",
      "source": [
        "####Complex\n",
        "Complex numbers are written with a \"j\" as the imaginary part:"
      ],
      "metadata": {
        "id": "-9AWXS5xpDC2"
      }
    },
    {
      "cell_type": "code",
      "source": [
        "c1 = 3+5j\n",
        "c2 = 5j\n",
        "c3 = -5j\n",
        "print(c1)"
      ],
      "metadata": {
        "colab": {
          "base_uri": "https://localhost:8080/"
        },
        "id": "24NSgJtgpEku",
        "outputId": "bd1efac3-fae2-4c44-ff97-f8bbddb6a4d6"
      },
      "execution_count": 7,
      "outputs": [
        {
          "output_type": "stream",
          "name": "stdout",
          "text": [
            "(3+5j)\n"
          ]
        }
      ]
    },
    {
      "cell_type": "markdown",
      "source": [
        "###Check Type of Data\n",
        "type() method used to check the type of data"
      ],
      "metadata": {
        "id": "u2OLiAP2phoM"
      }
    },
    {
      "cell_type": "code",
      "source": [
        "print(type(x))\n",
        "print(type(f1))\n",
        "print(type(c1))"
      ],
      "metadata": {
        "colab": {
          "base_uri": "https://localhost:8080/"
        },
        "id": "_BSN1QQUpku5",
        "outputId": "7f016950-c159-479d-e49d-a55e6da2c1f2"
      },
      "execution_count": 10,
      "outputs": [
        {
          "output_type": "stream",
          "name": "stdout",
          "text": [
            "<class 'int'>\n",
            "<class 'float'>\n",
            "<class 'complex'>\n"
          ]
        }
      ]
    },
    {
      "cell_type": "markdown",
      "source": [
        "##Input Function\n",
        "* Take Input from user"
      ],
      "metadata": {
        "id": "d9M_u6YWq7pP"
      }
    },
    {
      "cell_type": "code",
      "source": [
        "name=input(\"Enter your Name\")\n",
        "print(\"My Name is \",name)\n",
        "\n",
        "print(type(name))"
      ],
      "metadata": {
        "colab": {
          "base_uri": "https://localhost:8080/"
        },
        "id": "Vo2LBQwNrnvA",
        "outputId": "1cc074c6-efb1-465e-9fdd-f633b9a12761"
      },
      "execution_count": 11,
      "outputs": [
        {
          "output_type": "stream",
          "name": "stdout",
          "text": [
            "Enter your Namekousar raza\n",
            "My Name is  kousar raza\n",
            "<class 'str'>\n"
          ]
        }
      ]
    },
    {
      "cell_type": "markdown",
      "source": [
        "##String\n",
        "\n",
        "* String is a sequence of characters uncloased in quotes.\n",
        "\n",
        "* Strings in python are surrounded by either single quotation marks, or double quotation marks or triple quotation marks .\n",
        "\n",
        "* 'hello' is the same as \"hello\" and \"\"\"hello\"\"\".\n",
        "\n",
        "* You can display a string literal with the print() function:"
      ],
      "metadata": {
        "id": "W8tCf2WOsY6c"
      }
    },
    {
      "cell_type": "code",
      "source": [
        "a='hello world '\n",
        "b=\"hello world\"\n",
        "c=\"\"\"hello world\"\"\"\n",
        "\n",
        "print(a)\n",
        "print(b)\n",
        "print(c)"
      ],
      "metadata": {
        "colab": {
          "base_uri": "https://localhost:8080/"
        },
        "id": "wT3dTd1ess08",
        "outputId": "0f969059-6a3d-491e-bc18-8c9662f26973"
      },
      "execution_count": 12,
      "outputs": [
        {
          "output_type": "stream",
          "name": "stdout",
          "text": [
            "hello world \n",
            "hello world\n",
            "hello world\n"
          ]
        }
      ]
    },
    {
      "cell_type": "markdown",
      "source": [
        "###Strings are Arrays\n",
        " Like many other popular programming languages, strings in Python are arrays of bytes representing unicode characters.\n",
        "\n",
        "However, Python does not have a character data type, a single character is simply a string with a length of 1.\n",
        "\n",
        "Square brackets can be used to access elements of the string."
      ],
      "metadata": {
        "id": "CkNxAqy_syQi"
      }
    },
    {
      "cell_type": "code",
      "source": [
        "print(a[3])"
      ],
      "metadata": {
        "colab": {
          "base_uri": "https://localhost:8080/"
        },
        "id": "DMztmwNAu5Sy",
        "outputId": "f7df3737-e970-4ffd-e4b3-5aa4f72ca072"
      },
      "execution_count": 14,
      "outputs": [
        {
          "output_type": "stream",
          "name": "stdout",
          "text": [
            "l\n"
          ]
        }
      ]
    },
    {
      "cell_type": "markdown",
      "source": [
        "###Looping Through a String\n",
        "Since strings are arrays, we can loop through the characters in a string, with a for loop."
      ],
      "metadata": {
        "id": "Ok2GHk99vKbz"
      }
    },
    {
      "cell_type": "code",
      "source": [
        "#Loop through the letters in the word \"banana\":\n",
        "\n",
        "for x in \"banana\":\n",
        "  print(x)"
      ],
      "metadata": {
        "colab": {
          "base_uri": "https://localhost:8080/"
        },
        "id": "a7Y4LPtvvPrI",
        "outputId": "59c97aa9-1d9e-44f8-ef15-6feb0866a661"
      },
      "execution_count": 15,
      "outputs": [
        {
          "output_type": "stream",
          "name": "stdout",
          "text": [
            "b\n",
            "a\n",
            "n\n",
            "a\n",
            "n\n",
            "a\n"
          ]
        }
      ]
    },
    {
      "cell_type": "markdown",
      "source": [
        "###Check String\n",
        "To check if a certain phrase or character is present in a string, we can use the keyword in."
      ],
      "metadata": {
        "id": "AWq2FRTsvdG6"
      }
    },
    {
      "cell_type": "code",
      "source": [
        "txt=\"Python Programming is easy to understand\"\n",
        "\n",
        "print(\"easy\" in txt)\n",
        "\n",
        "print(\"is\" not in txt)\n"
      ],
      "metadata": {
        "colab": {
          "base_uri": "https://localhost:8080/"
        },
        "id": "Hyc2TWo_vgOF",
        "outputId": "eb34a5ed-754d-405e-e5d9-d78b8888085d"
      },
      "execution_count": 17,
      "outputs": [
        {
          "output_type": "stream",
          "name": "stdout",
          "text": [
            "True\n",
            "False\n"
          ]
        }
      ]
    },
    {
      "cell_type": "markdown",
      "source": [
        "###Acces the element from String(Slicing)\n",
        "* You can return a range of characters by using the slice syntax.\n",
        "\n",
        "* Specify the start index and the end index, separated by a colon, to return a part of the string.\n",
        "\n",
        "Get the characters from position 2 to position 5 (not included):"
      ],
      "metadata": {
        "id": "qJ9feFBzwIYh"
      }
    },
    {
      "cell_type": "code",
      "source": [
        "print(a[2:5])"
      ],
      "metadata": {
        "colab": {
          "base_uri": "https://localhost:8080/"
        },
        "id": "KGlno5vdwmhT",
        "outputId": "a2f4ffe8-e15a-45a3-e20f-4972f20e459b"
      },
      "execution_count": 18,
      "outputs": [
        {
          "output_type": "stream",
          "name": "stdout",
          "text": [
            "llo\n"
          ]
        }
      ]
    },
    {
      "cell_type": "markdown",
      "source": [
        "#####Slice From the Start\n",
        "* By leaving out the start index, the range will start at the first character:\n",
        "\n",
        "* Example :  Get the characters from the start to position 5 (not included):"
      ],
      "metadata": {
        "id": "ajy0c4t0wtwu"
      }
    },
    {
      "cell_type": "code",
      "source": [
        "print(b[:5])"
      ],
      "metadata": {
        "colab": {
          "base_uri": "https://localhost:8080/"
        },
        "id": "OnCpkXj3wwx2",
        "outputId": "26a1be87-e702-4ece-9b3c-3314db79229b"
      },
      "execution_count": 20,
      "outputs": [
        {
          "output_type": "stream",
          "name": "stdout",
          "text": [
            "hello\n"
          ]
        }
      ]
    },
    {
      "cell_type": "markdown",
      "source": [
        "####Slice To the End\n",
        "* By leaving out the end index, the range will go to the end:\n",
        "\n",
        "Example: Get the characters from position 2, and all the way to the end:"
      ],
      "metadata": {
        "id": "HLXILX6ixJaT"
      }
    },
    {
      "cell_type": "code",
      "source": [
        "print(c[1:])"
      ],
      "metadata": {
        "colab": {
          "base_uri": "https://localhost:8080/"
        },
        "id": "N4-EY4H_xNV1",
        "outputId": "4c995a7c-7b36-4f9f-cb71-273b150dfff0"
      },
      "execution_count": 21,
      "outputs": [
        {
          "output_type": "stream",
          "name": "stdout",
          "text": [
            "ello world\n"
          ]
        }
      ]
    },
    {
      "cell_type": "markdown",
      "source": [
        "###String Methods\n",
        "1. len\n",
        "2. upper\n",
        "3. lower\n",
        "4. strip\n",
        "5. count\n",
        "6. index\n",
        "7. split\n",
        "8. join\n",
        "9. capitalize\n"
      ],
      "metadata": {
        "id": "0Don-zX4xzbi"
      }
    },
    {
      "cell_type": "code",
      "source": [
        "name=\"paKistan\"\n",
        "sport=\" cRicket \"\n",
        "\n",
        "print(len(name))\n",
        "\n",
        "print(len(sport))\n",
        "\n",
        "\n",
        "print(name.upper())\n",
        "print(name.lower())\n",
        "\n",
        "print(sport.count('c'))\n",
        "\n",
        "print(sport.strip())\n",
        "\n",
        "print(sport.split())\n",
        "\n",
        "print(\"footbal\".join(sport))\n",
        "\n",
        "print(name.capitalize())\n"
      ],
      "metadata": {
        "colab": {
          "base_uri": "https://localhost:8080/"
        },
        "id": "clQiKPHRyjJl",
        "outputId": "4cbc3a80-ebda-4982-82a0-46e85dde7727"
      },
      "execution_count": 36,
      "outputs": [
        {
          "output_type": "stream",
          "name": "stdout",
          "text": [
            "8\n",
            "9\n",
            "PAKISTAN\n",
            "pakistan\n",
            "2\n",
            "cRicket\n",
            "['cRicket']\n",
            " footbalcfootbalRfootbalifootbalcfootbalkfootbalefootbaltfootbal \n",
            "Pakistan\n"
          ]
        }
      ]
    },
    {
      "cell_type": "markdown",
      "source": [
        "###String Concatenation\n",
        "\n",
        "* To concatenate, or combine, two strings you can use the + operator.\n",
        "\n",
        "\n"
      ],
      "metadata": {
        "id": "MpMlnBYN2FuT"
      }
    },
    {
      "cell_type": "code",
      "source": [
        "a=\"Hello\"\n",
        "b=\"World\"\n",
        "\n",
        "print(a+b)"
      ],
      "metadata": {
        "colab": {
          "base_uri": "https://localhost:8080/"
        },
        "id": "5oQlHbyD2RY7",
        "outputId": "0026778d-9ef3-46ce-c455-42a49fb189eb"
      },
      "execution_count": 37,
      "outputs": [
        {
          "output_type": "stream",
          "name": "stdout",
          "text": [
            "HelloWorld\n"
          ]
        }
      ]
    },
    {
      "cell_type": "markdown",
      "source": [
        "###String Format\n",
        "As we learned in the Python Variables chapter, we cannot combine strings and numbers like this:"
      ],
      "metadata": {
        "id": "eKxRwD917f3L"
      }
    },
    {
      "cell_type": "code",
      "source": [
        "age = 36\n",
        "txt = \"My name is John, I am \" + age\n",
        "print(txt)"
      ],
      "metadata": {
        "colab": {
          "base_uri": "https://localhost:8080/",
          "height": 210
        },
        "id": "FdklzQRg7iT3",
        "outputId": "e12edccb-6e7a-4394-d2b0-ddcf9999462b"
      },
      "execution_count": 1,
      "outputs": [
        {
          "output_type": "error",
          "ename": "TypeError",
          "evalue": "ignored",
          "traceback": [
            "\u001b[0;31m---------------------------------------------------------------------------\u001b[0m",
            "\u001b[0;31mTypeError\u001b[0m                                 Traceback (most recent call last)",
            "\u001b[0;32m<ipython-input-1-4d1b227cff41>\u001b[0m in \u001b[0;36m<cell line: 2>\u001b[0;34m()\u001b[0m\n\u001b[1;32m      1\u001b[0m \u001b[0mage\u001b[0m \u001b[0;34m=\u001b[0m \u001b[0;36m36\u001b[0m\u001b[0;34m\u001b[0m\u001b[0;34m\u001b[0m\u001b[0m\n\u001b[0;32m----> 2\u001b[0;31m \u001b[0mtxt\u001b[0m \u001b[0;34m=\u001b[0m \u001b[0;34m\"My name is John, I am \"\u001b[0m \u001b[0;34m+\u001b[0m \u001b[0mage\u001b[0m\u001b[0;34m\u001b[0m\u001b[0;34m\u001b[0m\u001b[0m\n\u001b[0m\u001b[1;32m      3\u001b[0m \u001b[0mprint\u001b[0m\u001b[0;34m(\u001b[0m\u001b[0mtxt\u001b[0m\u001b[0;34m)\u001b[0m\u001b[0;34m\u001b[0m\u001b[0;34m\u001b[0m\u001b[0m\n",
            "\u001b[0;31mTypeError\u001b[0m: can only concatenate str (not \"int\") to str"
          ]
        }
      ]
    },
    {
      "cell_type": "code",
      "source": [
        "age = 36\n",
        "txt = \"My name is John, and I am {}\"\n",
        "print(txt.format(age))"
      ],
      "metadata": {
        "colab": {
          "base_uri": "https://localhost:8080/"
        },
        "id": "9KOWb6qAQq2B",
        "outputId": "12f00bd6-1438-48ec-dcc2-99d25cf0cade"
      },
      "execution_count": 2,
      "outputs": [
        {
          "output_type": "stream",
          "name": "stdout",
          "text": [
            "My name is John, and I am 36\n"
          ]
        }
      ]
    },
    {
      "cell_type": "code",
      "source": [
        "quantity = 3\n",
        "itemno = 567\n",
        "price = 49.95\n",
        "myorder = \"I want {} pieces of item {} for {} dollars.\"\n",
        "print(myorder.format(quantity, itemno, price))"
      ],
      "metadata": {
        "colab": {
          "base_uri": "https://localhost:8080/"
        },
        "id": "F1XsyxATRGZV",
        "outputId": "3c4848cd-a0b1-490b-9856-e49e08bc327f"
      },
      "execution_count": 3,
      "outputs": [
        {
          "output_type": "stream",
          "name": "stdout",
          "text": [
            "I want 3 pieces of item 567 for 49.95 dollars.\n"
          ]
        }
      ]
    },
    {
      "cell_type": "markdown",
      "source": [
        "##Boolean\n",
        "* In programming you often need to know if an expression is True or False.\n",
        "\n",
        "* You can evaluate any expression in Python, and get one of two answers, True or False."
      ],
      "metadata": {
        "id": "Llzs8kORRe4D"
      }
    },
    {
      "cell_type": "code",
      "source": [
        "a=5\n",
        "b=10\n",
        "\n",
        "print(a==5)\n",
        "\n",
        "print(b==5)"
      ],
      "metadata": {
        "colab": {
          "base_uri": "https://localhost:8080/"
        },
        "id": "uEn3-8utRjUn",
        "outputId": "d13411a4-633e-49dc-d4a8-537d9a3e38a6"
      },
      "execution_count": 4,
      "outputs": [
        {
          "output_type": "stream",
          "name": "stdout",
          "text": [
            "True\n",
            "False\n"
          ]
        }
      ]
    },
    {
      "cell_type": "markdown",
      "source": [
        "##Type Casting\n",
        "\n",
        "* We can change the data type of a variable or a value.\n"
      ],
      "metadata": {
        "id": "wqSU1vhMR6EF"
      }
    },
    {
      "cell_type": "code",
      "source": [
        "a=5\n",
        "print(a)\n",
        "#type of a\n",
        "print(type(a))\n",
        "\n",
        "#change the type of a(int) to str\n",
        "\n",
        "b=str(a)\n",
        "print(b)\n",
        "print(type(b))\n",
        "\n",
        "#c=a+b\n",
        "#print(c)\n",
        "\n",
        "s=\"5\"\n",
        "sum=s+b\n",
        "print(sum)\n",
        "\n",
        "#chnage the str into float\n",
        "\n",
        "s=float(s)\n",
        "b=float(b)\n",
        "sum=a+b\n",
        "print(sum)\n",
        "print(type(sum))"
      ],
      "metadata": {
        "colab": {
          "base_uri": "https://localhost:8080/"
        },
        "id": "Dya0IGiOSM-u",
        "outputId": "840b0446-b071-4729-87e3-c94af2a5ccd0"
      },
      "execution_count": 12,
      "outputs": [
        {
          "output_type": "stream",
          "name": "stdout",
          "text": [
            "5\n",
            "<class 'int'>\n",
            "5\n",
            "<class 'str'>\n",
            "55\n",
            "10.0\n",
            "<class 'float'>\n"
          ]
        }
      ]
    },
    {
      "cell_type": "code",
      "source": [
        "#Change float into int and int into float\n",
        "a=34.4\n",
        "b=40\n",
        "\n",
        "print(a,\"\\n\",b)\n",
        "print(type(a))\n",
        "print(type(b))\n",
        "\n"
      ],
      "metadata": {
        "colab": {
          "base_uri": "https://localhost:8080/"
        },
        "id": "nqe7smqzTjCH",
        "outputId": "07238fda-3dcd-43a0-bb7e-6891eda3f960"
      },
      "execution_count": 13,
      "outputs": [
        {
          "output_type": "stream",
          "name": "stdout",
          "text": [
            "34.4 \n",
            " 40\n",
            "<class 'float'>\n",
            "<class 'int'>\n"
          ]
        }
      ]
    },
    {
      "cell_type": "code",
      "source": [
        "a=int(a) #change into int\n",
        "b=float(b) # change into float\n",
        "\n",
        "print(a)\n",
        "print(b)\n",
        "\n",
        "print(type(a))\n",
        "print(type(b))"
      ],
      "metadata": {
        "colab": {
          "base_uri": "https://localhost:8080/"
        },
        "id": "k0KuJ02QT4yF",
        "outputId": "55810ef8-932d-443b-d1b7-f971b1853900"
      },
      "execution_count": 15,
      "outputs": [
        {
          "output_type": "stream",
          "name": "stdout",
          "text": [
            "34\n",
            "40.0\n",
            "<class 'int'>\n",
            "<class 'float'>\n"
          ]
        }
      ]
    }
  ]
}