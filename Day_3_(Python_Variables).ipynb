{
  "nbformat": 4,
  "nbformat_minor": 0,
  "metadata": {
    "colab": {
      "provenance": [],
      "toc_visible": true,
      "authorship_tag": "ABX9TyPTtpdhLvaYG73AQyUHR/EI",
      "include_colab_link": true
    },
    "kernelspec": {
      "name": "python3",
      "display_name": "Python 3"
    },
    "language_info": {
      "name": "python"
    }
  },
  "cells": [
    {
      "cell_type": "markdown",
      "metadata": {
        "id": "view-in-github",
        "colab_type": "text"
      },
      "source": [
        "<a href=\"https://colab.research.google.com/github/kousarraza/Python/blob/main/Day_3_(Python_Variables).ipynb\" target=\"_parent\"><img src=\"https://colab.research.google.com/assets/colab-badge.svg\" alt=\"Open In Colab\"/></a>"
      ]
    },
    {
      "cell_type": "markdown",
      "source": [
        "#Day_3"
      ],
      "metadata": {
        "id": "KhZEZsQCmvaa"
      }
    },
    {
      "cell_type": "markdown",
      "source": [
        "##Variables\n",
        "A variable should be named according to following rules:\n",
        "\n",
        "* A variable name can only contain alpha-numeric characters and underscores (A-z, 0-9, and _ ).\n",
        "* A variable name must start with a letter or the underscore character.\n",
        "* Variable names are case sensitive.\n",
        "* Variable name shouldn't be any keyword of Python.\n",
        "* Variable names are case-sensitive (age, Age and AGE are three different variables)"
      ],
      "metadata": {
        "id": "m05kNCfof7kC"
      }
    },
    {
      "cell_type": "code",
      "execution_count": null,
      "metadata": {
        "id": "c1q_OKrofmoO"
      },
      "outputs": [],
      "source": [
        "    # ....correct method....\n",
        "_myVar5 = \"Cricket\"\n",
        "myVariableName = 95\n",
        "MyVariableName = 'Pakistan'\n",
        "myVariableName = 88.5\n",
        "print(myVariableName)\n"
      ]
    },
    {
      "cell_type": "code",
      "source": [
        "'''\n",
        "     ...Wrong Method...\n",
        "    _my Var = \"iCodeGuru\n",
        "    2myvariableName = 95\n",
        "    &MyVariableName = 'Pakistan'   --> (*&^%$#@!)not allowed at variable\n",
        "\n",
        "    '''"
      ],
      "metadata": {
        "id": "mZebBEfdhALI"
      },
      "execution_count": null,
      "outputs": []
    },
    {
      "cell_type": "markdown",
      "source": [
        "###Types of variable name cases"
      ],
      "metadata": {
        "id": "Fx5XaQ1PhdIL"
      }
    },
    {
      "cell_type": "markdown",
      "source": [
        "####Camel Case Variable\n",
        "*Camel Case --> whose first word of variable is lower and second word is Upper case."
      ],
      "metadata": {
        "id": "TA61UTAQh3rn"
      }
    },
    {
      "cell_type": "code",
      "source": [
        "myName=\"Kousar Raza\"\n",
        "myAge=24\n",
        "\n",
        "print(myName)\n",
        "print(myAge)"
      ],
      "metadata": {
        "colab": {
          "base_uri": "https://localhost:8080/"
        },
        "id": "jbko_2j9hU9_",
        "outputId": "e27b5d3c-0c99-4179-f840-3bad5b20eda5"
      },
      "execution_count": 1,
      "outputs": [
        {
          "output_type": "stream",
          "name": "stdout",
          "text": [
            "Kousar Raza\n",
            "24\n"
          ]
        }
      ]
    },
    {
      "cell_type": "markdown",
      "source": [
        "#### Pascal Case Variable\n"
      ],
      "metadata": {
        "id": "K5bigY2aivP-"
      }
    },
    {
      "cell_type": "markdown",
      "source": [
        "* Who first and second letter words letter are upper case."
      ],
      "metadata": {
        "id": "TuO3us9Vi2lZ"
      }
    },
    {
      "cell_type": "code",
      "source": [
        "MyName=\"Kousar Raza\"\n",
        "MyAge=24\n",
        "print(MyName)\n",
        "print(MyAge)"
      ],
      "metadata": {
        "colab": {
          "base_uri": "https://localhost:8080/"
        },
        "id": "VtG-pmeajApF",
        "outputId": "64446e4d-da14-4727-bfc3-89970f3b94a0"
      },
      "execution_count": 3,
      "outputs": [
        {
          "output_type": "stream",
          "name": "stdout",
          "text": [
            "Kousar Raza\n",
            "24\n"
          ]
        }
      ]
    },
    {
      "cell_type": "markdown",
      "source": [
        "#### Snake Case Variable"
      ],
      "metadata": {
        "id": "btcLyjnFiSRY"
      }
    },
    {
      "cell_type": "markdown",
      "source": [
        "* Whose all letter are lower case.\n",
        "* Each word is separated by an underscore character\n"
      ],
      "metadata": {
        "id": "C9tpf6Bijea8"
      }
    },
    {
      "cell_type": "code",
      "source": [
        "my_name_=\"Pakistan\"\n",
        "my_country_code=92"
      ],
      "metadata": {
        "id": "RCqQyv2_iROP"
      },
      "execution_count": null,
      "outputs": []
    },
    {
      "cell_type": "markdown",
      "source": [
        "###Assigning values to the variable:\n",
        "* Assigning multiple values to multiple variables\n",
        "\n",
        "* Assigning one value to multiple variables"
      ],
      "metadata": {
        "id": "Kau3a199kC2p"
      }
    },
    {
      "cell_type": "markdown",
      "source": [
        "####Multiple Values to Multiple Variables\n",
        "Python allows you to assign values to multiple variables in one line."
      ],
      "metadata": {
        "id": "vfZ4zq5BkMaG"
      }
    },
    {
      "cell_type": "code",
      "source": [
        "x,y ,z= \"Green\",\"Blue\",\"Black\"\n",
        "print(x,y,z)"
      ],
      "metadata": {
        "colab": {
          "base_uri": "https://localhost:8080/"
        },
        "id": "_gsZx_RMkgn7",
        "outputId": "d44aca07-b712-493d-cd7e-86168a8dbdad"
      },
      "execution_count": 4,
      "outputs": [
        {
          "output_type": "stream",
          "name": "stdout",
          "text": [
            "Green Blue Black\n"
          ]
        }
      ]
    },
    {
      "cell_type": "markdown",
      "source": [
        "####One Value to Multiple Variables\n",
        "* And you can assign the same value to multiple variables in one line"
      ],
      "metadata": {
        "id": "sAi_eIxSknhD"
      }
    },
    {
      "cell_type": "code",
      "source": [
        "x = y = z = \"Orange\"\n",
        "print(x)\n",
        "print(y)\n",
        "print(z)"
      ],
      "metadata": {
        "colab": {
          "base_uri": "https://localhost:8080/"
        },
        "id": "2febQ37Dkq_u",
        "outputId": "a689e455-9ba9-4d83-8b86-7d8fe6b2241b"
      },
      "execution_count": 5,
      "outputs": [
        {
          "output_type": "stream",
          "name": "stdout",
          "text": [
            "Orange\n",
            "Orange\n",
            "Orange\n"
          ]
        }
      ]
    },
    {
      "cell_type": "markdown",
      "source": [
        "##Getting Address of a Variable\n",
        "Use id function for it.\n",
        "\n",
        "* The id() function returns a unique id for the specified object.\n",
        "\n",
        "* All objects in Python has its own unique id.\n",
        "\n",
        "* The id is assigned to the object when it is created.\n",
        "\n",
        "* The id is the object's memory address, and will be different for each time you run the program."
      ],
      "metadata": {
        "id": "JNNsoYZTp6FM"
      }
    },
    {
      "cell_type": "code",
      "source": [
        "X = 139810907914576\n",
        "print(id(139810907914576))\n",
        "b = 2\n",
        "print(id(b))"
      ],
      "metadata": {
        "colab": {
          "base_uri": "https://localhost:8080/"
        },
        "id": "Zoe2VvM1qClp",
        "outputId": "bb00facc-e68f-42ef-c924-f40682078f6e"
      },
      "execution_count": 14,
      "outputs": [
        {
          "output_type": "stream",
          "name": "stdout",
          "text": [
            "134382474229584\n",
            "134383037202704\n"
          ]
        }
      ]
    },
    {
      "cell_type": "markdown",
      "source": [
        "###Output Variables\n",
        "The Python print() function is often used to output variables."
      ],
      "metadata": {
        "id": "mtGY3g1ak1kw"
      }
    },
    {
      "cell_type": "code",
      "source": [
        "x = \"Python is awesome\"\n",
        "print(x)"
      ],
      "metadata": {
        "colab": {
          "base_uri": "https://localhost:8080/"
        },
        "id": "azAXQgfYk3gk",
        "outputId": "d378d936-9d66-4ac0-af04-d70bd05b3c91"
      },
      "execution_count": 6,
      "outputs": [
        {
          "output_type": "stream",
          "name": "stdout",
          "text": [
            "Python is awesome\n"
          ]
        }
      ]
    },
    {
      "cell_type": "markdown",
      "source": [
        "In the print() function, you output multiple variables, separated by a comma:"
      ],
      "metadata": {
        "id": "R3SnoGivk_MC"
      }
    },
    {
      "cell_type": "code",
      "source": [
        "x = \"Python\"\n",
        "y = \"is\"\n",
        "z = \"awesome\"\n",
        "print(x, y, z)"
      ],
      "metadata": {
        "colab": {
          "base_uri": "https://localhost:8080/"
        },
        "id": "3n8FG4yllBT-",
        "outputId": "9a2d7a11-fe99-4b7c-f904-2ba18114e7fd"
      },
      "execution_count": 7,
      "outputs": [
        {
          "output_type": "stream",
          "name": "stdout",
          "text": [
            "Python is awesome\n"
          ]
        }
      ]
    },
    {
      "cell_type": "markdown",
      "source": [
        "You can also use the + operator to output multiple variables:"
      ],
      "metadata": {
        "id": "adZHNMKqlLOH"
      }
    },
    {
      "cell_type": "code",
      "source": [
        "x = \"Python \"\n",
        "y = \"is \"\n",
        "z = \"awesome\"\n",
        "print(x + y + z)"
      ],
      "metadata": {
        "colab": {
          "base_uri": "https://localhost:8080/"
        },
        "id": "nbbORLG1lP_G",
        "outputId": "397ee84c-e786-4ecf-ef78-38d9684ebb40"
      },
      "execution_count": 8,
      "outputs": [
        {
          "output_type": "stream",
          "name": "stdout",
          "text": [
            "Python is awesome\n"
          ]
        }
      ]
    },
    {
      "cell_type": "markdown",
      "source": [
        "###End and Sep\n",
        "* We can use End command in the end of print function.\n",
        "\n",
        "* Syntax is: print(1,2,3,End=\" .\")\n",
        "\n",
        "* Sep command used to seprated the values from print funcction\n",
        "\n",
        "* Syntax is : print(1,2,3,4,sep=\"-\")"
      ],
      "metadata": {
        "id": "PntNa2ARlW4H"
      }
    },
    {
      "cell_type": "code",
      "source": [
        "print(\"Hello World\",end=\".\")\n",
        "print(\"\\n\")\n",
        "print(\"\\nHello\", \"World\", sep=\"-\")"
      ],
      "metadata": {
        "colab": {
          "base_uri": "https://localhost:8080/"
        },
        "id": "lqyIOfTBlcn1",
        "outputId": "0d23f54c-bb90-4236-bb85-933523c2ded9"
      },
      "execution_count": 13,
      "outputs": [
        {
          "output_type": "stream",
          "name": "stdout",
          "text": [
            "Hello World.\n",
            "\n",
            "\n",
            "Hello-World\n"
          ]
        }
      ]
    }
  ]
}