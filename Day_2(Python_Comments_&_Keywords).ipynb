{
  "nbformat": 4,
  "nbformat_minor": 0,
  "metadata": {
    "colab": {
      "provenance": [],
      "toc_visible": true,
      "authorship_tag": "ABX9TyNwCHlLKMmIaXbHw1N1kOCR",
      "include_colab_link": true
    },
    "kernelspec": {
      "name": "python3",
      "display_name": "Python 3"
    },
    "language_info": {
      "name": "python"
    }
  },
  "cells": [
    {
      "cell_type": "markdown",
      "metadata": {
        "id": "view-in-github",
        "colab_type": "text"
      },
      "source": [
        "<a href=\"https://colab.research.google.com/github/kousarraza/Python/blob/main/Day_2(Python_Comments_%26_Keywords).ipynb\" target=\"_parent\"><img src=\"https://colab.research.google.com/assets/colab-badge.svg\" alt=\"Open In Colab\"/></a>"
      ]
    },
    {
      "cell_type": "markdown",
      "source": [
        "##Day_2"
      ],
      "metadata": {
        "id": "XvhPHGa-O1IR"
      }
    },
    {
      "cell_type": "markdown",
      "source": [
        "##Python Comments\n",
        "Comments Uses\n",
        "* Comments can be used to explain Python code.\n",
        "* Comments can be used to make the code more readable.\n",
        "* Comments can be used to prevent execution when testing code."
      ],
      "metadata": {
        "id": "PM-TpNzAO80v"
      }
    },
    {
      "cell_type": "markdown",
      "source": [
        "###Type of Comments in Python\n",
        "1. Single line comment\n",
        "2. Multi line comment"
      ],
      "metadata": {
        "id": "v9Mn_PyXPNDL"
      }
    },
    {
      "cell_type": "code",
      "source": [
        "#This is Single Line Comment\n",
        "print(\"Single Line Comment\")\n",
        "\n",
        "\"\"\"This is Multi line comment\n",
        "Hello My name is Kousar Raza\"\"\"\n",
        "\n",
        "\n",
        "'''This is also a multi line comment'''\n"
      ],
      "metadata": {
        "id": "tha0_TlqPUF6"
      },
      "execution_count": null,
      "outputs": []
    },
    {
      "cell_type": "markdown",
      "source": [
        "##Reserved or Keywords in Pythons\n",
        "\n",
        "\n",
        "* Keywords are predefined, reserved words used in Python programming that have special meanings to the interpreter.\n",
        "\n",
        "* We cannot use a keyword as a variable name, function name, or any other identifier. They are used to define the syntax and structure of the Python language.\n",
        "\n",
        "Following are some keywords in Python:\n",
        "\n",
        "##False, is, in, Lambda, True, None, if, elif, break, else, continue, class, not, and, or"
      ],
      "metadata": {
        "id": "0j9FUyMcePPO"
      }
    },
    {
      "cell_type": "code",
      "source": [
        "a = \"a variable\"\n",
        "is = \"won't allow a variable\"\n",
        "print(a)\n",
        "print(is)"
      ],
      "metadata": {
        "id": "NrkzwoRueun9",
        "outputId": "4d897a45-8efe-4382-f0b6-75456c39d2b4",
        "colab": {
          "base_uri": "https://localhost:8080/",
          "height": 140
        }
      },
      "execution_count": null,
      "outputs": [
        {
          "output_type": "error",
          "ename": "SyntaxError",
          "evalue": "ignored",
          "traceback": [
            "\u001b[0;36m  File \u001b[0;32m\"<ipython-input-1-2bc92210384f>\"\u001b[0;36m, line \u001b[0;32m2\u001b[0m\n\u001b[0;31m    is = \"won't allow a variable\"\u001b[0m\n\u001b[0m    ^\u001b[0m\n\u001b[0;31mSyntaxError\u001b[0m\u001b[0;31m:\u001b[0m invalid syntax\n"
          ]
        }
      ]
    }
  ]
}