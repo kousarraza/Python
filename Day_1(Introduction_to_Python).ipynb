{
  "nbformat": 4,
  "nbformat_minor": 0,
  "metadata": {
    "colab": {
      "provenance": [],
      "authorship_tag": "ABX9TyM4UhcvipkG/Ou4fSRaOHB5",
      "include_colab_link": true
    },
    "kernelspec": {
      "name": "python3",
      "display_name": "Python 3"
    },
    "language_info": {
      "name": "python"
    }
  },
  "cells": [
    {
      "cell_type": "markdown",
      "metadata": {
        "id": "view-in-github",
        "colab_type": "text"
      },
      "source": [
        "<a href=\"https://colab.research.google.com/github/kousarraza/Python/blob/main/Day_1(Introduction_to_Python).ipynb\" target=\"_parent\"><img src=\"https://colab.research.google.com/assets/colab-badge.svg\" alt=\"Open In Colab\"/></a>"
      ]
    },
    {
      "cell_type": "markdown",
      "source": [
        "#Day_1\n"
      ],
      "metadata": {
        "id": "uxI5f_L2LWIe"
      }
    },
    {
      "cell_type": "markdown",
      "source": [
        "## What is Python?\n",
        "Python is a popular programming language. It was created by Guido van Rossum, and released in 1991.\n",
        "\n",
        "It is used for:\n",
        "\n",
        "* web development (server-side),\n",
        "* software development,\n",
        "* mathematics, system scripting."
      ],
      "metadata": {
        "id": "_J0Tb7f6Lg29"
      }
    },
    {
      "cell_type": "markdown",
      "source": [
        "## What can Python do?\n",
        "* Python can be used on a server to create web applications.\n",
        "* Python can be used alongside software to create workflows.\n",
        "* Python can connect to database systems. It can also read and modify files.\n",
        "* Python can be used to handle big data and perform complex mathematics.\n",
        "* Python can be used for rapid prototyping, or for production-ready software development."
      ],
      "metadata": {
        "id": "tntvyiHNL4rg"
      }
    },
    {
      "cell_type": "markdown",
      "source": [
        "## Why Python?\n",
        "* Python works on different platforms (Windows, Mac, Linux, Raspberry Pi, etc).\n",
        "* Python has a simple syntax similar to the English language.\n",
        "* Python has syntax that allows developers to write programs with fewer lines than some other programming languages.\n",
        "* Python runs on an interpreter system, meaning that code can be executed as soon as it is written. This means that prototyping can be very quick.\n",
        "* Python can be treated in a procedural way, an object-oriented way or a functional way."
      ],
      "metadata": {
        "id": "To4giYYfMFkv"
      }
    },
    {
      "cell_type": "markdown",
      "source": [
        "## Python Indentation\n",
        "* Indentation refers to the spaces at the beginning of a code line.\n",
        "\n",
        "* Where in other programming languages the indentation in code is for readability only, the indentation in Python is very important.\n",
        "\n",
        "Python uses indentation to indicate a block of code."
      ],
      "metadata": {
        "id": "L1ZcTiSTMSGC"
      }
    },
    {
      "cell_type": "markdown",
      "source": [
        "##First Program"
      ],
      "metadata": {
        "id": "xre0gDDOMcKt"
      }
    },
    {
      "cell_type": "code",
      "execution_count": null,
      "metadata": {
        "colab": {
          "base_uri": "https://localhost:8080/"
        },
        "id": "s_Wq399jKjPN",
        "outputId": "8a356c01-a0ea-494d-d54d-51509a7c6ef4"
      },
      "outputs": [
        {
          "output_type": "stream",
          "name": "stdout",
          "text": [
            "Hello World\n"
          ]
        }
      ],
      "source": [
        "print(\"Hello World\")"
      ]
    }
  ]
}