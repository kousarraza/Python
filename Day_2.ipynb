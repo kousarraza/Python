{
  "nbformat": 4,
  "nbformat_minor": 0,
  "metadata": {
    "colab": {
      "provenance": [],
      "authorship_tag": "ABX9TyMFsZtX6T3s+q86e7SU3rOM",
      "include_colab_link": true
    },
    "kernelspec": {
      "name": "python3",
      "display_name": "Python 3"
    },
    "language_info": {
      "name": "python"
    }
  },
  "cells": [
    {
      "cell_type": "markdown",
      "metadata": {
        "id": "view-in-github",
        "colab_type": "text"
      },
      "source": [
        "<a href=\"https://colab.research.google.com/github/kousarraza/Python/blob/main/Day_2.ipynb\" target=\"_parent\"><img src=\"https://colab.research.google.com/assets/colab-badge.svg\" alt=\"Open In Colab\"/></a>"
      ]
    },
    {
      "cell_type": "markdown",
      "source": [
        "##Day_2"
      ],
      "metadata": {
        "id": "XvhPHGa-O1IR"
      }
    },
    {
      "cell_type": "markdown",
      "source": [
        "##Python Comments\n",
        "Comments Uses\n",
        "* Comments can be used to explain Python code.\n",
        "* Comments can be used to make the code more readable.\n",
        "* Comments can be used to prevent execution when testing code."
      ],
      "metadata": {
        "id": "PM-TpNzAO80v"
      }
    },
    {
      "cell_type": "markdown",
      "source": [
        "## ype of Comments in Python\n",
        "1. Single line comment\n",
        "2. Multi line comment"
      ],
      "metadata": {
        "id": "v9Mn_PyXPNDL"
      }
    },
    {
      "cell_type": "code",
      "source": [
        "#This is Single Line Comment\n",
        "print(\"Single Line Comment\")\n",
        "\n",
        "\"\"\"This is Multi line comment\n",
        "Hello My name is Kousar Raza\"\"\"\n",
        "\n",
        "\n",
        "'''This is also"
      ],
      "metadata": {
        "id": "tha0_TlqPUF6"
      },
      "execution_count": null,
      "outputs": []
    },
    {
      "cell_type": "code",
      "execution_count": null,
      "metadata": {
        "id": "HUDD--obOyYa"
      },
      "outputs": [],
      "source": []
    }
  ]
}